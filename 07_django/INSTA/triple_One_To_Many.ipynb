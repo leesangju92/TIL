{
 "cells": [
  {
   "cell_type": "markdown",
   "metadata": {},
   "source": [
    "# One To Many 3\n",
    "\n",
    "## Student\n",
    "\n",
    "| id(PK) | name          |\n",
    "| ------ | ------------- |\n",
    "| INT    | Charfield(20) |\n",
    "\n",
    "## Message\n",
    "\n",
    "| id (PK) | student (FK) - Student | content       |\n",
    "| ------- | ---------------------- | ------------- |\n",
    "| INT     | INT                    | Charfield(30) |\n",
    "\n",
    "## Reply\n",
    "\n",
    "| id (PK) | student (FK) - Student | message(FK) - Message | content       |\n",
    "| ------- | ---------------------- | --------------------- | ------------- |\n",
    "| INT     | INT                    | INT                   | Charfield(30) |"
   ]
  },
  {
   "cell_type": "code",
   "execution_count": 1,
   "metadata": {},
   "outputs": [
    {
     "data": {
      "text/plain": [
       "<Student: Student object (2)>"
      ]
     },
     "execution_count": 1,
     "metadata": {},
     "output_type": "execute_result"
    }
   ],
   "source": [
    "Student.objects.create(name=\"장재영\")\n",
    "Student.objects.create(name=\"이상주\")"
   ]
  },
  {
   "cell_type": "code",
   "execution_count": 2,
   "metadata": {},
   "outputs": [],
   "source": [
    "rolling_paper = Message()\n",
    "rolling_paper.student = Student.objects.get(id=1)\n",
    "rolling_paper.content = \"장재영님에게 메세지를 남겨주세요\"\n",
    "rolling_paper.save()"
   ]
  },
  {
   "cell_type": "code",
   "execution_count": 6,
   "metadata": {},
   "outputs": [
    {
     "data": {
      "text/plain": [
       "'장재영'"
      ]
     },
     "execution_count": 6,
     "metadata": {},
     "output_type": "execute_result"
    }
   ],
   "source": [
    "rolling_paper.student.name"
   ]
  },
  {
   "cell_type": "code",
   "execution_count": 6,
   "metadata": {},
   "outputs": [],
   "source": [
    "reply = Reply()\n",
    "reply.message = Message.objects.get(id=1)\n",
    "reply.student = Student.objects.get(name=\"이상주\")\n",
    "reply.content = \"엘지(LG) 결과 언제 나와요?\"\n",
    "reply.save()"
   ]
  },
  {
   "cell_type": "code",
   "execution_count": 4,
   "metadata": {},
   "outputs": [],
   "source": [
    "rolling_paper = Message.objects.get(id=1)"
   ]
  },
  {
   "cell_type": "code",
   "execution_count": 7,
   "metadata": {},
   "outputs": [],
   "source": [
    "reply_2 = Reply()\n",
    "reply_2.message = rolling_paper\n",
    "reply_2.student = Student.objects.get(name=\"장재영\")\n",
    "reply_2.content = \"오늘은 내 생일이다\"\n",
    "reply_2.save()"
   ]
  },
  {
   "cell_type": "code",
   "execution_count": 17,
   "metadata": {},
   "outputs": [
    {
     "data": {
      "text/plain": [
       "'엘지(LG) 결과 언제 나와요?'"
      ]
     },
     "execution_count": 17,
     "metadata": {},
     "output_type": "execute_result"
    }
   ],
   "source": [
    "reply.content"
   ]
  },
  {
   "cell_type": "code",
   "execution_count": 18,
   "metadata": {},
   "outputs": [
    {
     "data": {
      "text/plain": [
       "'장재영님에게 메세지를 남겨주세요'"
      ]
     },
     "execution_count": 18,
     "metadata": {},
     "output_type": "execute_result"
    }
   ],
   "source": [
    "reply.message.content"
   ]
  },
  {
   "cell_type": "code",
   "execution_count": 14,
   "metadata": {},
   "outputs": [
    {
     "data": {
      "text/plain": [
       "'장재영'"
      ]
     },
     "execution_count": 14,
     "metadata": {},
     "output_type": "execute_result"
    }
   ],
   "source": [
    "reply.message.student.name"
   ]
  },
  {
   "cell_type": "code",
   "execution_count": 15,
   "metadata": {},
   "outputs": [
    {
     "data": {
      "text/plain": [
       "'이상주'"
      ]
     },
     "execution_count": 15,
     "metadata": {},
     "output_type": "execute_result"
    }
   ],
   "source": [
    "reply.student.name"
   ]
  },
  {
   "cell_type": "code",
   "execution_count": 16,
   "metadata": {},
   "outputs": [
    {
     "data": {
      "text/plain": [
       "<QuerySet [<Reply: Reply object (1)>, <Reply: Reply object (2)>]>"
      ]
     },
     "execution_count": 16,
     "metadata": {},
     "output_type": "execute_result"
    }
   ],
   "source": [
    "reply.message.reply_set.all()"
   ]
  }
 ],
 "metadata": {
  "kernelspec": {
   "display_name": "Django Shell-Plus",
   "language": "python",
   "name": "django_extensions"
  },
  "language_info": {
   "codemirror_mode": {
    "name": "ipython",
    "version": 3
   },
   "file_extension": ".py",
   "mimetype": "text/x-python",
   "name": "python",
   "nbconvert_exporter": "python",
   "pygments_lexer": "ipython3",
   "version": "3.7.3"
  }
 },
 "nbformat": 4,
 "nbformat_minor": 2
}
