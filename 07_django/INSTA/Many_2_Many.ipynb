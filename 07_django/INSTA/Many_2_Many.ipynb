{
 "cells": [
  {
   "cell_type": "markdown",
   "metadata": {},
   "source": [
    "# Many 2 Many Relation\n",
    "\n",
    "## Student\n",
    "\n",
    "| id(PK) | name          |\n",
    "| ------ | ------------- |\n",
    "| INT    | Charfield(20) |\n",
    "\n",
    "## Lecture\n",
    "\n",
    "| id(PK) | name          |\n",
    "| ------ | ------------- |\n",
    "| INT    | Charfiled(20) |\n",
    "\n",
    "## Enrolment\n",
    "\n",
    "| id(PK) | lecture_id(FK) | student_id(FK) |\n",
    "| ------ | -------------- | -------------- |\n",
    "| INT    | INT            | INT            |\n"
   ]
  },
  {
   "cell_type": "code",
   "execution_count": 2,
   "metadata": {},
   "outputs": [
    {
     "data": {
      "text/plain": [
       "mton.models.Student"
      ]
     },
     "execution_count": 2,
     "metadata": {},
     "output_type": "execute_result"
    }
   ],
   "source": [
    "Student"
   ]
  },
  {
   "cell_type": "code",
   "execution_count": 3,
   "metadata": {},
   "outputs": [
    {
     "data": {
      "text/plain": [
       "(9, {'mton.Enrolment': 6, 'mton.Student': 3})"
      ]
     },
     "execution_count": 3,
     "metadata": {},
     "output_type": "execute_result"
    }
   ],
   "source": [
    "Student.objects.all().delete()"
   ]
  },
  {
   "cell_type": "code",
   "execution_count": 4,
   "metadata": {},
   "outputs": [
    {
     "data": {
      "text/plain": [
       "<QuerySet []>"
      ]
     },
     "execution_count": 4,
     "metadata": {},
     "output_type": "execute_result"
    }
   ],
   "source": [
    "Student.objects.all()\n"
   ]
  },
  {
   "cell_type": "code",
   "execution_count": 5,
   "metadata": {},
   "outputs": [
    {
     "data": {
      "text/plain": [
       "(3, {'mton.Enrolment': 0, 'mton.Lecture': 3})"
      ]
     },
     "execution_count": 5,
     "metadata": {},
     "output_type": "execute_result"
    }
   ],
   "source": [
    "Lecture.objects.all().delete()"
   ]
  },
  {
   "cell_type": "code",
   "execution_count": 7,
   "metadata": {},
   "outputs": [
    {
     "data": {
      "text/plain": [
       "(0, {'mton.Enrolment': 0})"
      ]
     },
     "execution_count": 7,
     "metadata": {},
     "output_type": "execute_result"
    }
   ],
   "source": [
    "Enrolment.objects.all().delete()"
   ]
  },
  {
   "cell_type": "code",
   "execution_count": 1,
   "metadata": {},
   "outputs": [
    {
     "data": {
      "text/plain": [
       "<Student: 3 : 장재영>"
      ]
     },
     "execution_count": 1,
     "metadata": {},
     "output_type": "execute_result"
    }
   ],
   "source": [
    "# Student.objects.create(name = \"이상주\")\n",
    "# Student.objects.create(name = \"권성령\")\n",
    "# Student.objects.create(name = \"장재영\")"
   ]
  },
  {
   "cell_type": "code",
   "execution_count": 2,
   "metadata": {},
   "outputs": [
    {
     "data": {
      "text/plain": [
       "<Lecture: 3 : 알고리즘>"
      ]
     },
     "execution_count": 2,
     "metadata": {},
     "output_type": "execute_result"
    }
   ],
   "source": [
    "# Lecture.objects.create(name = \"장고\")\n",
    "# Lecture.objects.create(name = \"DB\")\n",
    "# Lecture.objects.create(name = \"알고리즘\")"
   ]
  },
  {
   "cell_type": "code",
   "execution_count": 5,
   "metadata": {},
   "outputs": [
    {
     "data": {
      "text/plain": [
       "3"
      ]
     },
     "execution_count": 5,
     "metadata": {},
     "output_type": "execute_result"
    }
   ],
   "source": [
    "Student.objects.count()"
   ]
  },
  {
   "cell_type": "code",
   "execution_count": 14,
   "metadata": {},
   "outputs": [
    {
     "data": {
      "text/plain": [
       "<Enrolment: Enrolment object (6)>"
      ]
     },
     "execution_count": 14,
     "metadata": {},
     "output_type": "execute_result"
    }
   ],
   "source": [
    "Enrolment.objects.create(student_id=1, lecture_id=1)"
   ]
  },
  {
   "cell_type": "code",
   "execution_count": 3,
   "metadata": {},
   "outputs": [
    {
     "data": {
      "text/plain": [
       "<Enrolment: Enrolment object (5)>"
      ]
     },
     "execution_count": 3,
     "metadata": {},
     "output_type": "execute_result"
    }
   ],
   "source": [
    "# Enrolment.objects.create(student_id=2, lecture_id=2)\n",
    "# Enrolment.objects.create(student_id=2, lecture_id=3)\n",
    "# Enrolment.objects.create(student_id=2, lecture_id=1)\n",
    "# Enrolment.objects.create(student_id=3, lecture_id=1)\n",
    "# Enrolment.objects.create(student_id=3, lecture_id=2)"
   ]
  },
  {
   "cell_type": "code",
   "execution_count": 11,
   "metadata": {},
   "outputs": [],
   "source": [
    "이상주 = Student.objects.get(name=\"이상주\")"
   ]
  },
  {
   "cell_type": "code",
   "execution_count": 17,
   "metadata": {},
   "outputs": [
    {
     "data": {
      "text/plain": [
       "<QuerySet [<Enrolment: Enrolment object (6)>]>"
      ]
     },
     "execution_count": 17,
     "metadata": {},
     "output_type": "execute_result"
    }
   ],
   "source": [
    "이상주.enrolment_set.all()"
   ]
  },
  {
   "cell_type": "code",
   "execution_count": 18,
   "metadata": {},
   "outputs": [],
   "source": [
    "권성령 = Student.objects.get(name=\"권성령\")"
   ]
  },
  {
   "cell_type": "code",
   "execution_count": 20,
   "metadata": {},
   "outputs": [
    {
     "name": "stdout",
     "output_type": "stream",
     "text": [
      "DB\n",
      "알고리즘\n",
      "장고\n"
     ]
    }
   ],
   "source": [
    "for enrolment in 권성령.enrolment_set.all():\n",
    "    print(enrolment.lecture.name)"
   ]
  },
  {
   "cell_type": "code",
   "execution_count": 31,
   "metadata": {},
   "outputs": [
    {
     "name": "stdout",
     "output_type": "stream",
     "text": [
      "[<Student: 2 : 권성령>, <Student: 3 : 장재영>]\n"
     ]
    }
   ],
   "source": [
    "# student 중에서 듣는 수업이 여러개인 student를 리스트에 저장합니다.\n",
    "many_class = []\n",
    "for st in Student.objects.all():\n",
    "    if len(st.enrolment_set.all()) > 1:\n",
    "        many_class.append(st)\n",
    "print(many_class)\n"
   ]
  },
  {
   "cell_type": "code",
   "execution_count": 36,
   "metadata": {},
   "outputs": [
    {
     "name": "stdout",
     "output_type": "stream",
     "text": [
      "권성령 : 알고리즘\n",
      "\n",
      "이상주 :\n",
      "장고\n",
      "\n",
      "권성령 :\n",
      "DB\n",
      "알고리즘\n",
      "장고\n",
      "\n",
      "장재영 :\n",
      "장고\n",
      "DB\n",
      "\n"
     ]
    }
   ],
   "source": [
    "# 위 학생들이 듣는 수업들중에서 수업명이 글자수가 4개(원래는 5개) 이상인 수업 출력\n",
    "for std in many_class:\n",
    "    for enrr in std.enrolment_set.all():\n",
    "        if len(enrr.lecture.name) >= 4:\n",
    "            print(std.name, \":\", enrr.lecture.name)\n",
    "\n",
    "print()\n",
    "\n",
    "# 각각의 수업을 듣는 학생 목록을 출력해봅시다\n",
    "for std in Student.objects.all():\n",
    "    print(std.name, \":\")\n",
    "    for enr in std.enrolment_set.all():\n",
    "        print(enr.lecture.name)\n",
    "    print()"
   ]
  }
 ],
 "metadata": {
  "kernelspec": {
   "display_name": "Django Shell-Plus",
   "language": "python",
   "name": "django_extensions"
  },
  "language_info": {
   "codemirror_mode": {
    "name": "ipython",
    "version": 3
   },
   "file_extension": ".py",
   "mimetype": "text/x-python",
   "name": "python",
   "nbconvert_exporter": "python",
   "pygments_lexer": "ipython3",
   "version": "3.7.3"
  }
 },
 "nbformat": 4,
 "nbformat_minor": 2
}
