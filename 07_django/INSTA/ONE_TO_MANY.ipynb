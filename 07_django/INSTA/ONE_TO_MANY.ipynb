{
 "cells": [
  {
   "cell_type": "markdown",
   "metadata": {},
   "source": [
    "# One To Many model\n",
    "\n",
    "## Writer\n",
    "\n",
    "| id     | name      |\n",
    "| ------ | --------- |\n",
    "| PK.INT | Charfield |\n",
    "\n",
    "## Book\n",
    "\n",
    "| id     | author       | title     | description |\n",
    "| ------ | ------------ | --------- | ----------- |\n",
    "| PK.INT | FK.writer_id | Charfield | Textfield   |"
   ]
  },
  {
   "cell_type": "code",
   "execution_count": 1,
   "metadata": {},
   "outputs": [
    {
     "data": {
      "text/plain": [
       "otom.models.Book"
      ]
     },
     "execution_count": 1,
     "metadata": {},
     "output_type": "execute_result"
    }
   ],
   "source": [
    "Book"
   ]
  },
  {
   "cell_type": "code",
   "execution_count": 2,
   "metadata": {},
   "outputs": [
    {
     "data": {
      "text/plain": [
       "<Writer: Writer object (1)>"
      ]
     },
     "execution_count": 2,
     "metadata": {},
     "output_type": "execute_result"
    }
   ],
   "source": [
    "Writer.objects.create(name=\"박경리\")"
   ]
  },
  {
   "cell_type": "code",
   "execution_count": 3,
   "metadata": {},
   "outputs": [
    {
     "data": {
      "text/plain": [
       "<Book: Book object (1)>"
      ]
     },
     "execution_count": 3,
     "metadata": {},
     "output_type": "execute_result"
    }
   ],
   "source": [
    "Book.objects.create(\n",
    "    title=\"토지\",\n",
    "    description=\"최참판 일가와 이용 일가의 가족사를 중심으로 구한말부터 일제강점기를 지나 광복까지의 내용을 다루고 있으며, 모두 5부 16권의 분량으로 구성되어 있다. 1부는 1894년 평사리에서 벌어지는 일을 중심으로 최참판 일가의 몰락을 그리고 있으며, 2부에서는 배경을 만주 용정으로 옮겨 최서희의 치부와 조준구에 대한 복수, 그리고 최서희와 두 아들을 비롯한 평사리 사람들의 귀향을 그리고 있다. 3부에서는 배경이 넓어져 만주와 일본 동경, 서울과 진주를 중심으로 이야기가 전개되며 김환(구천이)이 옥사한다. 4부에서는 김길상의 출옥과 탱화의 완성, 기화(봉순이)의 죽음, 그리고 오가다 지로와 유인실의 사랑과 갈등을 그리고 있으며, 2세대인 이 용의 아들 이홍과, 최서희와 김길상의 두 아들 최환국과 최윤국이 이야기의 전면에 서서히 등장한다. 5부에서는 제2차 세계 대전 가운데 한국인들의 고난과 기다림을 형상화하고 있으며, 주요사건은 이상현과 기화의 딸 이양현과 최윤국, 그리고 송관수의 아들 송영광의 삼각관계가 있다. 이 소설은 일본의 무조건 항복을 알리는 라디오 방송을 들은 이양현이 최서희에게 달려와 그 소식을 전하는 것으로 끝난다.\",\n",
    "    author = Writer.objects.get(id=1)\n",
    ")"
   ]
  },
  {
   "cell_type": "code",
   "execution_count": 4,
   "metadata": {},
   "outputs": [
    {
     "data": {
      "text/plain": [
       "<Book: Book object (2)>"
      ]
     },
     "execution_count": 4,
     "metadata": {},
     "output_type": "execute_result"
    }
   ],
   "source": [
    "Book.objects.create(\n",
    "    title = \"불신시대\",\n",
    "    description=\"9.28 수복 전야에 진영의 남편은 폭사했다. 그는 죽기 전에 경인 도로에서 본, 한 어린 인민군 병사의 임종이야기를 했다. 그 병사는 폭풍으로 터져 나온 내장에 파리 떼가 아귀처럼 끓고 있는데, 물 한 모금 달라고 애걸하면서도 어머니를 부르더라고 했다. 그것을 본 행인 한 사람이 노상에 굴러 있는 수박 한 덩이를 돌로 짜개서 그 소년에게 주었더니 채 그것을 먹지도 못하고 숨을 거뒀다는 것이다. 남편은 그 말을 하고 나서 수 시간 후에 폭사했다.\",\n",
    "    author = Writer.objects.get(id=1),\n",
    ")"
   ]
  },
  {
   "cell_type": "code",
   "execution_count": 5,
   "metadata": {},
   "outputs": [],
   "source": [
    "writer = Writer.objects.get(name=\"박경리\") # 조건 만족하는 객체 1개 return"
   ]
  },
  {
   "cell_type": "code",
   "execution_count": 6,
   "metadata": {},
   "outputs": [
    {
     "data": {
      "text/plain": [
       "'박경리'"
      ]
     },
     "execution_count": 6,
     "metadata": {},
     "output_type": "execute_result"
    }
   ],
   "source": [
    "writer.name"
   ]
  },
  {
   "cell_type": "code",
   "execution_count": 7,
   "metadata": {},
   "outputs": [],
   "source": [
    "writers = Writer.objects.filter(name=\"박경리\") # 조건을 만족하는 모든 객체 return"
   ]
  },
  {
   "cell_type": "code",
   "execution_count": 8,
   "metadata": {},
   "outputs": [],
   "source": [
    "park_writhers_family = Writer.objects.filter(name__contains=\"박\")"
   ]
  },
  {
   "cell_type": "code",
   "execution_count": 9,
   "metadata": {},
   "outputs": [
    {
     "data": {
      "text/plain": [
       "<QuerySet [<Writer: Writer object (1)>]>"
      ]
     },
     "execution_count": 9,
     "metadata": {},
     "output_type": "execute_result"
    }
   ],
   "source": [
    "park_writhers_family"
   ]
  },
  {
   "cell_type": "code",
   "execution_count": 10,
   "metadata": {},
   "outputs": [
    {
     "data": {
      "text/plain": [
       "<QuerySet [<Writer: Writer object (1)>]>"
      ]
     },
     "execution_count": 10,
     "metadata": {},
     "output_type": "execute_result"
    }
   ],
   "source": [
    "writers"
   ]
  },
  {
   "cell_type": "code",
   "execution_count": 11,
   "metadata": {},
   "outputs": [],
   "source": [
    "books = Book.objects.filter(author=1)"
   ]
  },
  {
   "cell_type": "code",
   "execution_count": 12,
   "metadata": {},
   "outputs": [
    {
     "data": {
      "text/plain": [
       "<QuerySet [<Book: Book object (1)>, <Book: Book object (2)>]>"
      ]
     },
     "execution_count": 12,
     "metadata": {},
     "output_type": "execute_result"
    }
   ],
   "source": [
    "books"
   ]
  },
  {
   "cell_type": "code",
   "execution_count": 15,
   "metadata": {},
   "outputs": [],
   "source": [
    "book1 = Book.objects.first()\n",
    "book2 = Book.objects.last()"
   ]
  },
  {
   "cell_type": "code",
   "execution_count": 21,
   "metadata": {},
   "outputs": [
    {
     "data": {
      "text/plain": [
       "'박경리'"
      ]
     },
     "execution_count": 21,
     "metadata": {},
     "output_type": "execute_result"
    }
   ],
   "source": [
    "book1.author.name"
   ]
  },
  {
   "cell_type": "code",
   "execution_count": 22,
   "metadata": {},
   "outputs": [
    {
     "data": {
      "text/plain": [
       "\"\\n'토지'를 너무 감명깊게 봐서\\n책들 전체에서 '토지'라는 제목의 책을 찾는다.\\n이 책의 작가 이름을 찾는다.\\n작가들 중에서 그 이름을 가진 사람을 찾는다.\\n책들 전체에서 그 작가의 책을 전부 가져온다.\\n\""
      ]
     },
     "execution_count": 22,
     "metadata": {},
     "output_type": "execute_result"
    }
   ],
   "source": [
    "\"\"\"\n",
    "'토지'를 너무 감명깊게 봐서\n",
    "책들 전체에서 '토지'라는 제목의 책을 찾는다.\n",
    "이 책의 작가 이름을 찾는다.\n",
    "작가들 중에서 그 이름을 가진 사람을 찾는다.\n",
    "책들 전체에서 그 작가의 책을 전부 가져온다.\n",
    "\"\"\""
   ]
  },
  {
   "cell_type": "code",
   "execution_count": 51,
   "metadata": {},
   "outputs": [],
   "source": [
    "favorite_book = Book.objects.get(title=\"토지\")\n",
    "favorite_author = Writer.objects.get(name=favorite_book.author.name)\n",
    "favorite_books = Book.objects.filter(author=favorite_author)\n",
    "# Book.objects.filter(author = Book.objects.get(title=\"토지\").author)"
   ]
  },
  {
   "cell_type": "code",
   "execution_count": 60,
   "metadata": {},
   "outputs": [
    {
     "data": {
      "text/plain": [
       "'토지'"
      ]
     },
     "execution_count": 60,
     "metadata": {},
     "output_type": "execute_result"
    }
   ],
   "source": [
    "Book.objects.filter(description__contains=\"일제\")[0].title"
   ]
  },
  {
   "cell_type": "code",
   "execution_count": 66,
   "metadata": {},
   "outputs": [],
   "source": [
    "# 내가 좋아하는 작가의 책 모두 가져오기\n",
    "wish_list = favorite_author.book_set.all()"
   ]
  },
  {
   "cell_type": "code",
   "execution_count": 70,
   "metadata": {},
   "outputs": [
    {
     "name": "stdout",
     "output_type": "stream",
     "text": [
      "토지\n",
      "불신시대\n"
     ]
    }
   ],
   "source": [
    "# for book in wish_list:\n",
    "#     print(book.title)\n",
    "\n",
    "for book in favorite_author.book_set.all():\n",
    "    print(book.title)"
   ]
  },
  {
   "cell_type": "code",
   "execution_count": null,
   "metadata": {},
   "outputs": [],
   "source": []
  }
 ],
 "metadata": {
  "kernelspec": {
   "display_name": "Django Shell-Plus",
   "language": "python",
   "name": "django_extensions"
  },
  "language_info": {
   "codemirror_mode": {
    "name": "ipython",
    "version": 3
   },
   "file_extension": ".py",
   "mimetype": "text/x-python",
   "name": "python",
   "nbconvert_exporter": "python",
   "pygments_lexer": "ipython3",
   "version": "3.7.3"
  }
 },
 "nbformat": 4,
 "nbformat_minor": 2
}
