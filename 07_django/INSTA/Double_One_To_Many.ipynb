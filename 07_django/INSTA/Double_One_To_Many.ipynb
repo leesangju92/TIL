{
 "cells": [
  {
   "cell_type": "markdown",
   "metadata": {},
   "source": [
    "# One To Many model\n",
    "\n",
    "## Writer\n",
    "\n",
    "| id (PK)     | name      |\n",
    "| ------ | --------- |\n",
    "| INT | Charfield |\n",
    "\n",
    "## Book\n",
    "\n",
    "| id (PK)     | author (FK-writer)       | title     | description |\n",
    "| ------ | ------------ | --------- | ----------- |\n",
    "| INT | INT | Charfield | Textfield   |\n",
    "\n",
    "# Chapter\n",
    "\n",
    "| id (PK)     | book_id (FK-book)    | title     | description |\n",
    "| ------ | ---------- | --------- | ----------- |\n",
    "| INT | INT | Charfield | Textfield   |"
   ]
  },
  {
   "cell_type": "code",
   "execution_count": 2,
   "metadata": {},
   "outputs": [
    {
     "data": {
      "text/plain": [
       "<Writer: Writer object (2)>"
      ]
     },
     "execution_count": 2,
     "metadata": {},
     "output_type": "execute_result"
    }
   ],
   "source": [
    "# writer 객체 생성\n",
    "Writer.objects.create(name=\"이선 브라운\")"
   ]
  },
  {
   "cell_type": "code",
   "execution_count": 4,
   "metadata": {},
   "outputs": [
    {
     "data": {
      "text/plain": [
       "<Book: Book object (3)>"
      ]
     },
     "execution_count": 4,
     "metadata": {},
     "output_type": "execute_result"
    }
   ],
   "source": [
    "# book 객체 생성\n",
    "Book.objects.create(\n",
    "    author = Writer.objects.get(name=\"이선 브라운\"),\n",
    "    title=\"러닝 자바스크립트\",\n",
    "    description=\"ES6로 익히는 고품질 자바스크립트 입문에서 서버 개발까지!\"\n",
    "                   )"
   ]
  },
  {
   "cell_type": "code",
   "execution_count": 5,
   "metadata": {},
   "outputs": [
    {
     "data": {
      "text/plain": [
       "<Book: Book object (4)>"
      ]
     },
     "execution_count": 5,
     "metadata": {},
     "output_type": "execute_result"
    }
   ],
   "source": [
    "# book 객체 생성\n",
    "Book.objects.create(\n",
    "    author = Writer.objects.get(name=\"이선 브라운\"),\n",
    "    title=\"러닝 파이썬\",\n",
    "    description=\"3.7로 배우는 고품질 파이썬 입문!\"\n",
    "                   )"
   ]
  },
  {
   "cell_type": "code",
   "execution_count": 6,
   "metadata": {},
   "outputs": [
    {
     "data": {
      "text/plain": [
       "<Chapter: Chapter object (4)>"
      ]
     },
     "execution_count": 6,
     "metadata": {},
     "output_type": "execute_result"
    }
   ],
   "source": [
    "Chapter.objects.create(\n",
    "    book = Book.objects.get(id=3),\n",
    "    title = \"First App\",\n",
    "    description = \"시작은 브라우저에서\",\n",
    ")\n",
    "\n",
    "Chapter.objects.create(\n",
    "    book = Book.objects.get(id=3),\n",
    "    title = \"개발 도구\",\n",
    "    description = \"트랜스컴파일러\",\n",
    ")\n",
    "\n",
    "Chapter.objects.create(\n",
    "    book = Book.objects.get(id=4),\n",
    "    title = \"파이썬 기초 문법\",\n",
    "    description = \"변수, 문자열, 숫자, 참/거짓\",\n",
    ")\n",
    "\n",
    "Chapter.objects.create(\n",
    "    book = Book.objects.get(id=4),\n",
    "    title = \"파이썬 자료 구조\",\n",
    "    description = \"리스트, 딕셔너리, 튜플, 세트\",\n",
    ")\n"
   ]
  },
  {
   "cell_type": "code",
   "execution_count": 48,
   "metadata": {},
   "outputs": [
    {
     "data": {
      "text/plain": [
       "<QuerySet [<Book: Book object (3)>, <Book: Book object (4)>]>"
      ]
     },
     "execution_count": 48,
     "metadata": {},
     "output_type": "execute_result"
    }
   ],
   "source": [
    "# 파이썬 배우고 싶다. 딕셔너리를 좀 찾아볼까?\n",
    "\n",
    "# 딕셔너리라는 챕터 설명이 있는 책의 저자가 쓴 모든 책을 가져오기\n",
    "\n",
    "target_book = Chapter.objects.filter(description__contains=\"딕셔너리\")[0].book\n",
    "\n",
    "target_author =  target_book.author\n",
    "\n",
    "book_list = Book.objects.filter(author=target_author)\n",
    "\n",
    "book_list"
   ]
  },
  {
   "cell_type": "code",
   "execution_count": 93,
   "metadata": {},
   "outputs": [
    {
     "data": {
      "text/plain": [
       "<QuerySet [<Book: Book object (3)>, <Book: Book object (4)>]>"
      ]
     },
     "execution_count": 93,
     "metadata": {},
     "output_type": "execute_result"
    }
   ],
   "source": [
    "Book.objects.filter(author= Chapter.objects.filter(description__contains=\"딕셔너리\")[0].book.author)\n",
    "Chapter.objects.filter(description__contains=\"딕셔너리\")[0].book.author.book_set.all()\n",
    "# print(Chapter.objects.filter(description__contains=\"딕셔너리\")[0].book.author.book_set.all().query)"
   ]
  },
  {
   "cell_type": "code",
   "execution_count": 32,
   "metadata": {},
   "outputs": [],
   "source": [
    "# 책들 중, DB에 2019년에 등록된 모든 책들 중에서 OFFSET2, LIMIT 3"
   ]
  },
  {
   "cell_type": "code",
   "execution_count": 67,
   "metadata": {},
   "outputs": [
    {
     "data": {
      "text/plain": [
       "<QuerySet [<Book: Book object (3)>, <Book: Book object (4)>]>"
      ]
     },
     "execution_count": 67,
     "metadata": {},
     "output_type": "execute_result"
    }
   ],
   "source": [
    "books = Book.objects.filter(created__contains = \"2019\")\n",
    "books[2:2+3]"
   ]
  },
  {
   "cell_type": "code",
   "execution_count": 82,
   "metadata": {},
   "outputs": [
    {
     "data": {
      "text/plain": [
       "[<Book: Book object (1)>,\n",
       " <Book: Book object (2)>,\n",
       " <Book: Book object (3)>,\n",
       " <Book: Book object (4)>]"
      ]
     },
     "execution_count": 82,
     "metadata": {},
     "output_type": "execute_result"
    }
   ],
   "source": [
    "all_books = Book.objects.all()\n",
    "\n",
    "answer = []\n",
    "\n",
    "for book in all_books:\n",
    "    if book.created.year >= 2018:\n",
    "        answer.append(book)"
   ]
  },
  {
   "cell_type": "code",
   "execution_count": 94,
   "metadata": {},
   "outputs": [
    {
     "name": "stdout",
     "output_type": "stream",
     "text": [
      "SELECT \"otom_book\".\"id\", \"otom_book\".\"created\", \"otom_book\".\"modified\", \"otom_book\".\"author_id\", \"otom_book\".\"title\", \"otom_book\".\"description\" FROM \"otom_book\" WHERE \"otom_book\".\"created\" > 2018-12-31 23:59:59.999999\n"
     ]
    }
   ],
   "source": [
    "books = Book.objects.filter(created__year__gt = 2018)\n",
    "print(books.query)"
   ]
  },
  {
   "cell_type": "code",
   "execution_count": 83,
   "metadata": {},
   "outputs": [
    {
     "name": "stdout",
     "output_type": "stream",
     "text": [
      "SELECT \"otom_book\".\"id\", \"otom_book\".\"created\", \"otom_book\".\"modified\", \"otom_book\".\"author_id\", \"otom_book\".\"title\", \"otom_book\".\"description\" FROM \"otom_book\"  LIMIT 2 OFFSET 1\n"
     ]
    }
   ],
   "source": [
    "print(Book.objects.all()[1:3].query)"
   ]
  }
 ],
 "metadata": {
  "kernelspec": {
   "display_name": "Django Shell-Plus",
   "language": "python",
   "name": "django_extensions"
  },
  "language_info": {
   "codemirror_mode": {
    "name": "ipython",
    "version": 3
   },
   "file_extension": ".py",
   "mimetype": "text/x-python",
   "name": "python",
   "nbconvert_exporter": "python",
   "pygments_lexer": "ipython3",
   "version": "3.7.3"
  }
 },
 "nbformat": 4,
 "nbformat_minor": 2
}
