{
 "cells": [
  {
   "cell_type": "markdown",
   "metadata": {},
   "source": [
    "# 11homework ~190117"
   ]
  },
  {
   "cell_type": "markdown",
   "metadata": {},
   "source": [
    "1. Badge component이며 만들려면 아래와 같은 클래스를 주어야 한다\n",
    "> badge badge-danger\n",
    "\n",
    "```html\n",
    "<span class=\"badge badge-danger\">Danger</span>\n",
    "\n",
    "```\n",
    "* Alerts component이며 만들려면 아래의 코드를 body안에 넣어야 한다.\n",
    "> alert alert-info\n",
    "\n",
    "```html\n",
    "<div class=\"alert alert-info\" role=\"alert\">\n",
    "    Hello SSAFY ?!\n",
    "</div>\n",
    "\n",
    "```\n",
    "* 부트스트랩 그리드 시스템은 레이아웃을 12개의 column으로, 5개의 반응형 사이즈 조건을 사용하여 구축한다.\n",
    "* 필요한 코드는 아래와 같다.\n",
    "```html\n",
    "...\n",
    "<head>\n",
    "    <style>\n",
    "        div {\n",
    "            border: solid 1px black;\n",
    "        }\n",
    "\n",
    "        .row {\n",
    "            background-color: moccasin;\n",
    "        }\n",
    "    </style>\n",
    "</head>\n",
    "...\n",
    "<body>\n",
    "    <div class=\"container\">\n",
    "        <div class=\"row\">\n",
    "            <div class=\"col\">\n",
    "                25%\n",
    "            </div>\n",
    "            <div class=\"col-6\">\n",
    "                50%\n",
    "            </div>\n",
    "            <div class=\"col\">\n",
    "                25%\n",
    "            </div>\n",
    "        </div>\n",
    "    </div>\n",
    "</body>\n",
    "...\n",
    "```\n"
   ]
  }
 ],
 "metadata": {
  "kernelspec": {
   "display_name": "Python 3",
   "language": "python",
   "name": "python3"
  },
  "language_info": {
   "codemirror_mode": {
    "name": "ipython",
    "version": 3
   },
   "file_extension": ".py",
   "mimetype": "text/x-python",
   "name": "python",
   "nbconvert_exporter": "python",
   "pygments_lexer": "ipython3",
   "version": "3.7.1"
  }
 },
 "nbformat": 4,
 "nbformat_minor": 2
}
