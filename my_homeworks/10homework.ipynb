{
 "cells": [
  {
   "cell_type": "code",
   "execution_count": 2,
   "metadata": {},
   "outputs": [],
   "source": [
    "# 1. (2) css란 cascading style sheets의 약자\n",
    "\n",
    "# 2. \n",
    "# * T\n",
    "# * T\n",
    "# * F (상속받는 속성과 상속받지 않는 속성이 있다. ex) color / padding\n",
    "\n",
    "# 3. rem\n",
    "\n",
    "# 4. 후손 셀렉터의 경우, div p 일시에 div에 속하는 모든 p가 해당 style로 변한다.\n",
    "# 하지만 자식 셀렉터의 경우, div > p 일시에 div에 바로 속하는 p만이 영향을 받는다는 것이\n",
    "# 가장 큰 차이점이다. (다만 이때 div내 p내 p에도 영향을 주는 것 확인함.)  \n",
    "# 그 외의 특징으로는, 자식 셀럭터가 후손 셀렉터에 우선된다. "
   ]
  }
 ],
 "metadata": {
  "kernelspec": {
   "display_name": "Python 3",
   "language": "python",
   "name": "python3"
  },
  "language_info": {
   "codemirror_mode": {
    "name": "ipython",
    "version": 3
   },
   "file_extension": ".py",
   "mimetype": "text/x-python",
   "name": "python",
   "nbconvert_exporter": "python",
   "pygments_lexer": "ipython3",
   "version": "3.6.7"
  }
 },
 "nbformat": 4,
 "nbformat_minor": 2
}
