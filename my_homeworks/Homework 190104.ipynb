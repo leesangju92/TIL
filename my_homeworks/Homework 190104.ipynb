{
 "cells": [
  {
   "cell_type": "markdown",
   "metadata": {},
   "source": [
    "# Homework 190104\n",
    "\n",
    "## 1. True / False\n",
    "* 1-1 F \n",
    "* 1-2 F \n",
    "* 1-3 T \n",
    "* 1-4 T\n",
    "\n",
    "## 2. 다음 unix 명령어들에 대하여 간략하게 기술하세요.\n",
    "* 2-1 ls : 현재 디렉토리(directory)에 있는 파일, 폴더의 리스트를 출력하게 하는 명령어로, 옵션-a(all)의 추가를 통해 숨김파일까지 모두 볼 수 있다. -altr(생성일 등 포함)\n",
    "* 2-2 cd : 특정 디렉토리로 이동하도록 하는 명령어로 탐색기에서 더블 클릭과 기능이 같다.\n",
    "* 2-3 mkdir : 폴더를 만드는 명령어로, 옵션 -p를 통해 한번에 여러개를 동시에 생성 가능하다.\n",
    "* 2-4 touch : 파일을 만드는 명령어로, 명령어 뒤에 파일명.확장자를 붙여 사용하며, .파일명을 추가하면 숨김파일도 생성 가능하다.\n",
    "\n",
    "## 3. CLI와 익숙해지게 되면, Tab 키를 매우 빈번하게 사용하게 됩니다. 그 이유는 무엇일까요?\n",
    "> unix 명령어를 사용할 때, 일정부분을 입력하고 Tab을 누르게 되면 자동완성이 되어 매우 편하기 때문에 Tab키를 빈번하게 사용하게 된다."
   ]
  }
 ],
 "metadata": {
  "kernelspec": {
   "display_name": "Python 3",
   "language": "python",
   "name": "python3"
  },
  "language_info": {
   "codemirror_mode": {
    "name": "ipython",
    "version": 3
   },
   "file_extension": ".py",
   "mimetype": "text/x-python",
   "name": "python",
   "nbconvert_exporter": "python",
   "pygments_lexer": "ipython3",
   "version": "3.7.1"
  }
 },
 "nbformat": 4,
 "nbformat_minor": 2
}
