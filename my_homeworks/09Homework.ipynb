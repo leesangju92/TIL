{
 "cells": [
  {
   "cell_type": "markdown",
   "metadata": {},
   "source": [
    "1. 3, HyperText Markup Language\n",
    "\n",
    "2. \n",
    "*F\n",
    "*F\n",
    "*T \n",
    "*T\n",
    "\n",
    "3. article, footer, nav\n",
    "\n",
    "4.\n",
    "\n",
    "<!DOCTYPE html>\n",
    "<html lang=\"en\">\n",
    "<head>\n",
    "    <meta charset=\"UTF-8\">\n",
    "    <meta name=\"viewport\" content=\"width=device-width, initial-scale=1.0\">\n",
    "    <meta http-equiv=\"X-UA-Compatible\" content=\"ie=edge\">\n",
    "    <title>Document</title>\n",
    "    <style>\n",
    "        table {\n",
    "            border: 1px solid black; text-align: left;\n",
    "        }        \n",
    "    </style>\n",
    "</head>\n",
    "<body>\n",
    "    <table>\n",
    "        <tr>\n",
    "            <th>\n",
    "                ID:   <input type=\"text\" size=\"15\" value=\"\">\n",
    "            </th>\n",
    "        </tr>\n",
    "        <tr>\n",
    "            <th>\n",
    "                PWD:\n",
    "                    <input type=\"password\" size=\"20\" value=\"\">\n",
    "                <button>로그인</button>\n",
    "            </th>\n",
    "        </tr>\n",
    "    </table>\n",
    "</body>\n",
    "</html>\n"
   ]
  }
 ],
 "metadata": {
  "kernelspec": {
   "display_name": "Python 3",
   "language": "python",
   "name": "python3"
  },
  "language_info": {
   "codemirror_mode": {
    "name": "ipython",
    "version": 3
   },
   "file_extension": ".py",
   "mimetype": "text/x-python",
   "name": "python",
   "nbconvert_exporter": "python",
   "pygments_lexer": "ipython3",
   "version": "3.6.7"
  }
 },
 "nbformat": 4,
 "nbformat_minor": 2
}
