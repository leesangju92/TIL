{
 "cells": [
  {
   "cell_type": "code",
   "execution_count": 87,
   "metadata": {},
   "outputs": [
    {
     "data": {
      "text/plain": [
       "'안녕하세요, 둘리입니다. 0살입니다.'"
      ]
     },
     "execution_count": 87,
     "metadata": {},
     "output_type": "execute_result"
    }
   ],
   "source": [
    "# 1. str, int, dict, list, set\n",
    "\n",
    "# 2. 5\n",
    "\n",
    "# 3.\n",
    "\n",
    "class person:\n",
    "    def __init__(self, name, age = 0):\n",
    "        self.name = name\n",
    "        self.age = age      \n",
    "    def greeting(self):\n",
    "        return f\"안녕하세요, {self.name}입니다. {self.age}살입니다.\"\n",
    "         \n",
    "p1 = person(\"홍길동\", 20)\n",
    "p1.greeting()\n",
    "\n",
    "p2 = person(\"둘리\")\n",
    "p2.greeting()"
   ]
  },
  {
   "cell_type": "code",
   "execution_count": null,
   "metadata": {},
   "outputs": [],
   "source": [
    "#연습\n",
    "#\n",
    "# class person():\n",
    "#     def greeting(self, name, age = 0):\n",
    "#         self.name = name\n",
    "#         self.age = age\n",
    "#         return f\"안녕하세요, {self.name}입니다. {self.age}살입니다.\"\n",
    "#     \n",
    "#    \n",
    "# p1 = person()\n",
    "# p1.greeting(\"홍길동\", 20)"
   ]
  }
 ],
 "metadata": {
  "kernelspec": {
   "display_name": "Python 3",
   "language": "python",
   "name": "python3"
  },
  "language_info": {
   "codemirror_mode": {
    "name": "ipython",
    "version": 3
   },
   "file_extension": ".py",
   "mimetype": "text/x-python",
   "name": "python",
   "nbconvert_exporter": "python",
   "pygments_lexer": "ipython3",
   "version": "3.6.7"
  }
 },
 "nbformat": 4,
 "nbformat_minor": 2
}
