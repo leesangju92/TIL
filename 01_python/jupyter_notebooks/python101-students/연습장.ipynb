{
 "cells": [
  {
   "cell_type": "code",
   "execution_count": null,
   "metadata": {},
   "outputs": [],
   "source": [
    "def calc(expr):\n",
    "    expr_list = expr.split(\" \")\n",
    "    final_sum = 0\n",
    "    while True:\n",
    "        for char in expr_list:\n",
    "            if char == \"+\":\n",
    "                n = expr_list.index(\"+\")\n",
    "                expr_list[n-2] = float(expr_list[n-2]) + float(expr_list[n-1])\n",
    "                expr_list.pop(n)\n",
    "                expr_list.pop(n-1)\n",
    "                \n",
    "            elif char == \"*\":\n",
    "                n = expr_list.index(\"*\")\n",
    "                expr_list[n-2] = float(expr_list[n-2]) * float(expr_list[n-1])\n",
    "                expr_list.pop(n)\n",
    "                expr_list.pop(n-1)\n",
    "                \n",
    "            elif char == \"/\":\n",
    "                n = expr_list.index(\"/\")\n",
    "                expr_list[n-2] = float(expr_list[n-2]) / float(expr_list[n-1])\n",
    "                expr_list.pop(n)\n",
    "                expr_list.pop(n-1)\n",
    "                \n",
    "            elif char == \"-\":\n",
    "                n = expr_list.index(\"-\")\n",
    "                expr_list[n-2] = float(expr_list[n-2]) - float(expr_list[n-1])\n",
    "                expr_list.pop(n)\n",
    "                expr_list.pop(n-1)\n",
    "        \n",
    "        if {\"+\",\"-\",\"*\",\"/\"}.intersection(set(expr_list)) == set():\n",
    "            break\n",
    "    \n",
    "    for number in expr_list:\n",
    "        final_sum += float(number)\n",
    "        \n",
    "    return final_sum    \n",
    "\n",
    "\n",
    "calc(\"3 4 + 5 \")"
   ]
  },
  {
   "cell_type": "code",
   "execution_count": 2,
   "metadata": {},
   "outputs": [
    {
     "data": {
      "text/plain": [
       "{1, 2, 3, 4}"
      ]
     },
     "execution_count": 2,
     "metadata": {},
     "output_type": "execute_result"
    }
   ],
   "source": [
    "set([1,2,3,4])"
   ]
  },
  {
   "cell_type": "code",
   "execution_count": null,
   "metadata": {},
   "outputs": [],
   "source": [
    "def calc(expr):\n",
    "    expr_list = expr.split(\" \")\n",
    "    final_sum = 0\n",
    "    while True:\n",
    "        for char in expr_list:\n",
    "            if char == \"+\":\n",
    "                n = expr_list.index(\"+\")\n",
    "                expr_list[n-2] = str(float(expr_list[n-2]) + float(expr_list[n-1]))\n",
    "                expr_list.pop(n)\n",
    "                expr_list.pop(n-1)\n",
    "                \n",
    "            elif char == \"*\":\n",
    "                n = expr_list.index(\"*\")\n",
    "                expr_list[n-2] = float(expr_list[n-2]) * float(expr_list[n-1])\n",
    "                expr_list.pop(n)\n",
    "                expr_list.pop(n-1)\n",
    "                \n",
    "            elif char == \"/\":\n",
    "                n = expr_list.index(\"/\")\n",
    "                expr_list[n-2] = float(expr_list[n-2]) / float(expr_list[n-1])\n",
    "                expr_list.pop(n)\n",
    "                expr_list.pop(n-1)\n",
    "                \n",
    "            elif char == \"-\":\n",
    "                n = expr_list.index(\"-\")\n",
    "                expr_list[n-2] = float(expr_list[n-2]) - float(expr_list[n-1])\n",
    "                expr_list.pop(n)\n",
    "                expr_list.pop(n-1)\n",
    "        \n",
    "        if {\"+\",\"-\",\"*\",\"/\"}.intersection(set(expr_list)) == set():\n",
    "            break\n",
    "    \n",
    "    for number in expr_list:\n",
    "        final_sum += float(number)\n",
    "        \n",
    "    return final_sum    \n",
    "\n",
    "\n",
    "print(calc(\"5 1 2 + 4 * + 3 -\"))"
   ]
  },
  {
   "cell_type": "code",
   "execution_count": 6,
   "metadata": {},
   "outputs": [],
   "source": [
    "def calc(expr, final_sum = 0):\n",
    "    if type(expr) == str:\n",
    "        expr = expr.split(\" \")\n",
    "    if {\"+\",\"-\",\"*\",\"/\"}.intersection(set(expr)) == set():\n",
    "        return final_sum\n",
    "    else:\n",
    "         for char in expr:\n",
    "            if char == \"+\":\n",
    "                n = expr.index(\"+\")\n",
    "                expr[n-2] = str(float(expr[n-2]) + float(expr[n-1]))\n",
    "                expr.pop(n)\n",
    "                expr.pop(n-1)\n",
    "                return(expr, final_sum)\n",
    "                \n",
    "            elif char == \"*\":\n",
    "                n = expr.index(\"*\")\n",
    "                expr[n-2] = float(expr[n-2]) * float(expr[n-1])\n",
    "                expr.pop(n)\n",
    "                expr.pop(n-1)\n",
    "                return(expr, final_sum)\n",
    "                \n",
    "            elif char == \"/\":\n",
    "                n = expr.index(\"/\")\n",
    "                expr[n-2] = float(expr[n-2]) / float(expr[n-1])\n",
    "                expr.pop(n)\n",
    "                expr.pop(n-1)\n",
    "                return(expr, final_sum)\n",
    "                \n",
    "            elif char == \"-\":\n",
    "                n = expr.index(\"-\")\n",
    "                expr[n-2] = float(expr[n-2]) - float(expr[n-1])\n",
    "                expr.pop(n)\n",
    "                expr.pop(n-1)\n",
    "                return(expr, final_sum)\n",
    "    "
   ]
  },
  {
   "cell_type": "code",
   "execution_count": null,
   "metadata": {},
   "outputs": [],
   "source": [
    "def calc(expr, final_sum = 0):\n",
    "    expr = expr.split(\" \")\n",
    "    while  {\"+\",\"-\",\"*\",\"/\"}.intersection(set(expr)) != set():\n",
    "    \n",
    "    return int(final_sum) if type(final_sum) == int else float(final_sum)\n",
    "        "
   ]
  },
  {
   "cell_type": "code",
   "execution_count": 5,
   "metadata": {},
   "outputs": [
    {
     "data": {
      "text/plain": [
       "'1234'"
      ]
     },
     "execution_count": 5,
     "metadata": {},
     "output_type": "execute_result"
    }
   ],
   "source": [
    "\"\".join([\"1\",\"2\",\"3\",\"4\"])"
   ]
  },
  {
   "cell_type": "code",
   "execution_count": null,
   "metadata": {},
   "outputs": [],
   "source": []
  }
 ],
 "metadata": {
  "kernelspec": {
   "display_name": "Python 3",
   "language": "python",
   "name": "python3"
  },
  "language_info": {
   "codemirror_mode": {
    "name": "ipython",
    "version": 3
   },
   "file_extension": ".py",
   "mimetype": "text/x-python",
   "name": "python",
   "nbconvert_exporter": "python",
   "pygments_lexer": "ipython3",
   "version": "3.6.7"
  }
 },
 "nbformat": 4,
 "nbformat_minor": 2
}
