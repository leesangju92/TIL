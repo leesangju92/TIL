{
 "cells": [
  {
   "cell_type": "markdown",
   "metadata": {
    "slideshow": {
     "slide_type": "slide"
    }
   },
   "source": [
    "# 조건문\n",
    "\n",
    "지금까지의 코드는 위에서부터 아래로 순차적으로 명령을 수행하는 프로그램을 작성하였다. \n",
    "\n",
    "제어문(Control of Flow)은 크게 반복문과 조건문으로 나눌 수 있고, 이는 순서도(Flow chart로 표현이 가능하다.)\n",
    "\n",
    "\n",
    "<center> \n",
    "    <img src=\"./images/02/if.png\", alt='if flowchart'/>\n",
    "</center>\n"
   ]
  },
  {
   "cell_type": "code",
   "execution_count": null,
   "metadata": {
    "scrolled": true,
    "slideshow": {
     "slide_type": "subslide"
    }
   },
   "outputs": [],
   "source": [
    "# 위의 flow chart로 표현하면 아래와 같다. 의미없는 indent가 있을 시에 오류가 발생. 주석있는 줄도 포함\n",
    "a = 5\n",
    "if a > 5:\n",
    "    print(\"5 초과\")\n",
    "else: \n",
    "    print(\"5 이하\")\n",
    "\n",
    "print(a)"
   ]
  },
  {
   "cell_type": "markdown",
   "metadata": {
    "slideshow": {
     "slide_type": "slide"
    }
   },
   "source": [
    "## 조건문 문법\n",
    "\n",
    "1. `if` 문은 반드시 일정한 참/거짓을 판단할 수 있는 `조건식`과 함께 사용이 되어야한다.\n",
    "`if <조건식>:`\n",
    "\n",
    "2-1. `<조건식>`이 참인 경우 `:` 이후의 문장을 수행한다.\n",
    "\n",
    "2-2. `<조건식>`이 거짓인 경우 `else:` 이후의 문장을 수행한다.\n",
    "\n",
    "* 이때 반드시 **들여쓰기를** 유의해야한다. \n",
    "파이썬에서는 코드 블록을 자바나 C언어의 `{}`와 달리 `들여쓰기`로 판단하기 때문이다.\n",
    "* 앞으로 우리는 `PEP-8`에서 권장하는 `4spaces`를 사용할 것이다.\n"
   ]
  },
  {
   "cell_type": "markdown",
   "metadata": {},
   "source": [
    "<center>\n",
    "    <img src=\"./images/02/if_style.png\", alt=\"if style\"/>\n",
    "</center>"
   ]
  },
  {
   "cell_type": "markdown",
   "metadata": {
    "slideshow": {
     "slide_type": "subslide"
    }
   },
   "source": [
    "<center><strong style=\"font-size: 40px;\">우리는 4spaces를 맞춰서 씁니다!</strong></center>\n",
    "<br>\n",
    "\n",
    "<center>\n",
    "    <img src=\"./images/02/spacetab.png\", alt=\"[space vs tab]\"/>\n",
    "</center>    \n",
    "\n",
    "\n",
    "\n",
    "\n",
    "[출처 : 400,000 GitHub repositories, 1 billion files, 14 terabytes of code: Spaces or Tabs?](https://medium.com/@hoffa/400-000-github-repositories-1-billion-files-14-terabytes-of-code-spaces-or-tabs-7cfe0b5dd7fd)\n"
   ]
  },
  {
   "cell_type": "markdown",
   "metadata": {},
   "source": [
    "### 실습문제1 - 조건문 기초 활용\n",
    "\n",
    "\n",
    "> **조건문을 통해 변수 num의 값과 홀수/짝수 여부를 출력하세요.**\n",
    "\n",
    "---\n",
    "\n",
    "```\n",
    "예시 출력)\n",
    "3\n",
    "홀수입니다.\n",
    "```"
   ]
  },
  {
   "cell_type": "code",
   "execution_count": null,
   "metadata": {
    "slideshow": {
     "slide_type": "subslide"
    }
   },
   "outputs": [],
   "source": [
    "# 실습!\n",
    "num = int(input(\"점수를 입력하세요 : \"))\n",
    "# 아래에 코드를 작성하세요.\n",
    "print(num)\n",
    "if num % 2 == 0:\n",
    "    print(\"짝수입니다.\")\n",
    "else:\n",
    "    print(\"홀수입니다.\")\n",
    "#input 무조건 string 처리, integer로 쓸려면 int()해줘야 한다.\n",
    "#콜론(:) 있는지 확인하는 방법으로, 자동 indenting이 안된다면 콜론을 넣지 않은 것."
   ]
  },
  {
   "cell_type": "markdown",
   "metadata": {},
   "source": [
    "### 실습문제 2\n",
    "> 아래 코드의 출력 결과를 예상해보세요."
   ]
  },
  {
   "cell_type": "code",
   "execution_count": null,
   "metadata": {},
   "outputs": [],
   "source": [
    "if True:\n",
    "    if False:\n",
    "        print(1)\n",
    "        print(2)\n",
    "    else:\n",
    "        print(3)\n",
    "else:\n",
    "    print(4)\n",
    "print(5)"
   ]
  },
  {
   "cell_type": "markdown",
   "metadata": {},
   "source": [
    "### 실습문제 3\n",
    "> 주머니에 5000원이 있다. 택시를 타려면 주머니에 4000원 이상 혹은 카드가 있어야 한다. 이 때 택시를 탈 수 있는지를 확인하는 코드를 짜보자"
   ]
  },
  {
   "cell_type": "code",
   "execution_count": null,
   "metadata": {},
   "outputs": [],
   "source": [
    "money = int(input(\"주머니에 돈이 얼마있습니까? 액수만 입력해주세요\"))\n",
    "card = input(\"주머니에 카드가 있습니까? 예/아니오로 대답해주세요\")\n",
    "\n",
    "if money >= 4000 or card == \"예\":\n",
    "    print(\"택시 탈 수 있습니다.\")\n",
    "else:\n",
    "    print(\"택시 탈 수 없습니다.\")"
   ]
  },
  {
   "cell_type": "code",
   "execution_count": null,
   "metadata": {},
   "outputs": [],
   "source": [
    "def is_taxi(money, card):\n",
    "#     if money >= 4000 or card:\n",
    "#         return(\"택시가능\")\n",
    "#     else:\n",
    "#         return(\"택시불가\")\n",
    "    return \"택시가능\" if money >= 4000 or card else \"택시불가\"\n",
    "    \n",
    "money = 3600\n",
    "card = True\n",
    "\n",
    "print(is_taxi(money, card))"
   ]
  },
  {
   "cell_type": "markdown",
   "metadata": {
    "slideshow": {
     "slide_type": "slide"
    }
   },
   "source": [
    "## 복수 조건문\n",
    "\n",
    "2개 이상의 조건문을 활용할 경우 `elif <조건식>:`을 활용한다.\n",
    "<center>\n",
    "<img src=\"./images/02/elif.png\", alt=\"elif\">\n",
    "</center>"
   ]
  },
  {
   "cell_type": "markdown",
   "metadata": {
    "slideshow": {
     "slide_type": "subslide"
    }
   },
   "source": [
    "### 실습문제1 - 조건식 2개 이상 활용하기\n",
    "\n",
    "> 조건문을 통해 변수 score에 따른 평점을 출력하세요.\n",
    "\n",
    "|점수|등급|\n",
    "|---|---|\n",
    "|90점 이상|A|\n",
    "|80점 이상|B|\n",
    "|70점 이상|C|\n",
    "|60점 이상|D|\n",
    "|60점 미만|F|\n",
    "\n",
    "--- \n",
    "\n",
    "```\n",
    "예시 출력)\n",
    "B\n",
    "```"
   ]
  },
  {
   "cell_type": "code",
   "execution_count": null,
   "metadata": {
    "slideshow": {
     "slide_type": "-"
    }
   },
   "outputs": [],
   "source": [
    "# 실습!\n",
    "score = int(input(\"점수를 입력하세요 : \"))\n",
    "if score >= 90:\n",
    "    print(\"A\")\n",
    "elif score >= 80:\n",
    "    print(\"B\")\n",
    "elif score >= 70:\n",
    "    print(\"C\")\n",
    "elif score >= 60:\n",
    "    print(\"D\")\n",
    "else:\n",
    "    print(\"F\")\n",
    "# 아래에 코드를 작성하세요."
   ]
  },
  {
   "cell_type": "markdown",
   "metadata": {
    "slideshow": {
     "slide_type": "subslide"
    }
   },
   "source": [
    "### 실습문제3 - 중첩 조건문 활용\n",
    "\n",
    "> **위의 실습문제 2코드를 활용하여 \n",
    "95점 이상이면, \"참잘했어요\"를 함께 출력해주세요**\n",
    "\n",
    "--- \n",
    "\n",
    "```\n",
    "예시 출력)\n",
    "A\n",
    "참잘했어요\n",
    "```"
   ]
  },
  {
   "cell_type": "code",
   "execution_count": null,
   "metadata": {},
   "outputs": [],
   "source": [
    "# 실습!\n",
    "score = 96\n",
    "\n",
    "# if score >= 95:\n",
    "#     print(\"A\")\n",
    "#     print(\"참잘했어요\")\n",
    "# elif score >= 90:\n",
    "#     print(\"A\")\n",
    "# elif score >= 80:\n",
    "#     print(\"B\")\n",
    "# elif score >= 70:\n",
    "#     print(\"C\")\n",
    "# elif score >= 60:\n",
    "#     print(\"D\")\n",
    "# else:\n",
    "#     print(\"F\")\n",
    "    \n",
    "if score >= 90:\n",
    "    print(\"A\")\n",
    "    if score >= 95:\n",
    "        print(\"참잘했어요\")\n",
    "elif score >= 80:\n",
    "    print(\"B\")\n",
    "elif score >= 70:\n",
    "    print(\"C\")\n",
    "elif score >= 60:\n",
    "    print(\"D\")\n",
    "else:\n",
    "    print(\"F\")"
   ]
  },
  {
   "cell_type": "code",
   "execution_count": null,
   "metadata": {},
   "outputs": [],
   "source": [
    "#fizzbuzz\n",
    "#3의 배수는 fizz\n",
    "#5의 배수는 buzz\n",
    "#3,5의 배수는 fizzbuzz\n",
    "\n",
    "n = int(input(\"숫자를 입력하세요 : \"))\n",
    "for i in range(1, n):\n",
    "    if i % 3 == 0 and i % 5 == 0:\n",
    "        print(\"fizzbuzz\")\n",
    "    elif i % 3 == 0:\n",
    "        print(\"fizz\")\n",
    "    elif i % 5 == 0:\n",
    "        print(\"buzz\")\n",
    "    else:\n",
    "        print(i)"
   ]
  },
  {
   "cell_type": "markdown",
   "metadata": {},
   "source": [
    "## 실습문제\n",
    "### 두 번째 숫자\n",
    "> 정수 세 개가 들어온다. 이 때, 2번째로 작은 정수를 출력하라."
   ]
  },
  {
   "cell_type": "code",
   "execution_count": null,
   "metadata": {},
   "outputs": [],
   "source": [
    "def second_number(a, b, c):\n",
    "    num1 = 0\n",
    "    num2 = 0\n",
    "    if a <= b and a <= c:\n",
    "        num1 = a\n",
    "        if num1 <= b and b <= c:\n",
    "            num2 = b\n",
    "        else:\n",
    "            num2 = c\n",
    "    elif b <= a and b <= c:\n",
    "        num1 = b\n",
    "        if num1 <= a and a <= c:\n",
    "            num2 = a\n",
    "        else:\n",
    "            num2 = c\n",
    "    elif c <= a and c <= b:\n",
    "        num1 = c\n",
    "        if num1 <= b and b <= c:\n",
    "            num2 = b\n",
    "        else:\n",
    "            num2 = a   \n",
    "    return num2\n",
    "\n",
    "# def second_number(a,b,c):\n",
    "#     if (a <= b and b <= c) or (c <= b and b <= a):\n",
    "#         return b\n",
    "#     elif (b <= a and a <= c) or ( c <= a and a <= b):\n",
    "#         return a\n",
    "#     else:\n",
    "#         return c\n",
    "\n",
    "# def second_number(a,b,c):             #파이썬에서만 가능한 방법이다.\n",
    "#     if a <= b <= c or c <= b <=a:\n",
    "#         return b\n",
    "#     elif b <= a <= c or c <= a <= b:\n",
    "#         return a\n",
    "#     else:\n",
    "#         return c\n",
    "\n",
    "def second_number(a, b, c):\n",
    "    second_numbers = [a, b, c]\n",
    "    length = \n",
    "    temp = 0\n",
    "    \n",
    "    for i in second_numbers:\n",
    "        if second_numbers[i]\n",
    "\n",
    "\n",
    "\n",
    "second_number(-3,5,-7)"
   ]
  },
  {
   "cell_type": "markdown",
   "metadata": {},
   "source": [
    "## 실습문제 \n",
    "### 환율계산\n",
    "> 사용자가 띄어쓰기를 기준으로, (volume 단위)로 입력한다. 원화로 계산해서 print 해주자"
   ]
  },
  {
   "cell_type": "code",
   "execution_count": null,
   "metadata": {},
   "outputs": [],
   "source": [
    "def currency_calculator(volume, unit):\n",
    "    currency = { \"USD\" : 1167, \"JPY\" : 10.00, \"EUR\" : 1268, \"CNY\" : 171 }\n",
    "    currency_korean = {}\n",
    "    currency_korean[\"달러\"] = currency[\"USD\"]\n",
    "    currency_korean[\"엔\"] = currency[\"JPY\"]\n",
    "    currency_korean[\"유로\"] = currency[\"EUR\"]\n",
    "    currency_korean[\"위안\"] = currency[\"CNY\"]\n",
    "    volume_change = int(volume)\n",
    "    return currency_korean[unit] * volume_change\n",
    "    \n",
    "#     unit_currency = {\n",
    "#         '달러' : 'USD',\n",
    "#         '엔' : 'JPY',\n",
    "#         '유로' : 'EUR',\n",
    "#         '위안' : 'CNY'\n",
    "#     }\n",
    "#     symbol = unit_currency[unit]\n",
    "#     return round(volume*currency[symbol], 2)\n",
    "#     print(volume, currency_korean[unit])\n",
    "\n",
    "\n",
    "volume, currency_input = input(\"가지고 있는 외국 통화를 입력하세요: EX) 100 달러\\n\").split()\n",
    "\n",
    "print(currency_calculator(volume, \"{}\".format(currency_input)))\n",
    "\n",
    "\n",
    "# input => 100 달러, 100 유로, 200 위안, 1000 엔"
   ]
  },
  {
   "cell_type": "code",
   "execution_count": null,
   "metadata": {},
   "outputs": [],
   "source": [
    "my_list = input()\n",
    "print(my_list)"
   ]
  },
  {
   "cell_type": "markdown",
   "metadata": {
    "slideshow": {
     "slide_type": "slide"
    }
   },
   "source": [
    "## 조건 표현식(Conditional Expression)\n",
    "\n",
    "**활용법**\n",
    "\n",
    "```\n",
    "true_value if <조건식> else false_value\n",
    "```\n",
    "    \n",
    "와 같이 표현식을 작성할 수 있다. 이는 보통 다른 언어에서 활용되는 삼항연산자와 동일하다."
   ]
  },
  {
   "cell_type": "code",
   "execution_count": null,
   "metadata": {},
   "outputs": [],
   "source": [
    "num = 3\n",
    "print(\"3이네\") if num == 3 else print(\"3이 아니네\")"
   ]
  },
  {
   "cell_type": "markdown",
   "metadata": {
    "slideshow": {
     "slide_type": "subslide"
    }
   },
   "source": [
    "* 표현식은 보통 조건에 따라 값을 정할 때 많이 활용된다."
   ]
  },
  {
   "cell_type": "code",
   "execution_count": null,
   "metadata": {},
   "outputs": [],
   "source": [
    "# 아래의 코드는 무엇을 위한 코드일까요? 0이하의 수 모두 0으로 만드는 코드\n",
    "num = int(input(\"숫자를 입력하세요 : \"))\n",
    "value \\\n",
    "= num if num >= 0 else 0 # =이후로 완전히 다른 세계\n",
    "print(value)"
   ]
  },
  {
   "cell_type": "code",
   "execution_count": null,
   "metadata": {
    "slideshow": {
     "slide_type": "fragment"
    }
   },
   "outputs": [],
   "source": [
    "# 위의 코드와 동일한 코드입니다.\n",
    "num = int(input(\"숫자를 입력하세요 : \"))\n",
    "if num <= 0:\n",
    "    value = 0\n",
    "else:\n",
    "    value = num\n",
    "    \n",
    "print(value)"
   ]
  },
  {
   "cell_type": "code",
   "execution_count": null,
   "metadata": {
    "slideshow": {
     "slide_type": "subslide"
    }
   },
   "outputs": [],
   "source": [
    "# 다음의 코드와 동일한 조건 표현식을 작성해보세요.\n",
    "num = 2\n",
    "if num % 2:   # num % 2의 결과로 0,1이 나오는데 자동형변환으로 False, True가 되어 표현식이 성립\n",
    "    result = '홀수입니다.'\n",
    "else:\n",
    "    result = '짝수입니다.'\n",
    "print(result)"
   ]
  },
  {
   "cell_type": "code",
   "execution_count": null,
   "metadata": {},
   "outputs": [],
   "source": [
    "# 여기에 코드를 작성하세요.\n",
    "num = 2\n",
    "result = \"홀수입니다.\" if num % 2 else \"짝수입니다.\"\n",
    "print(result)"
   ]
  },
  {
   "cell_type": "markdown",
   "metadata": {
    "slideshow": {
     "slide_type": "slide"
    }
   },
   "source": [
    "# 반복문\n",
    "\n",
    "## `while` 문\n",
    "\n",
    "`while`문은 조건식이 참(True)인 경우 반복적으로 코드를 실행합니다. \n",
    "<br>\n",
    "<br>\n",
    "<center> \n",
    "    <img src=\"./images/02/while.png\", alt=\"while\"/>\n",
    "</center>\n",
    "\n",
    "**while 문은 종료조건을 반드시 설정해주어야 합니다.**"
   ]
  },
  {
   "cell_type": "code",
   "execution_count": null,
   "metadata": {},
   "outputs": [],
   "source": [
    "a = 0\n",
    "\n",
    "while a < 5:\n",
    "    print(a)\n",
    "    a += 1\n",
    "\n",
    "print(\"끝\")"
   ]
  },
  {
   "cell_type": "markdown",
   "metadata": {
    "slideshow": {
     "slide_type": "subslide"
    }
   },
   "source": [
    "<center>\n",
    "    <img src=\"./images/02/while_style.png\", alt=\"\">\n",
    "</center>\n",
    "\n",
    "`while`문 역시 `<조건식>`이후에 `:`이 반드시 필요하며, \n",
    "\n",
    "이후 오는 코드 블록은 `4spaces`로 **들여쓰기**를 해주셔야 합니다."
   ]
  },
  {
   "cell_type": "markdown",
   "metadata": {
    "slideshow": {
     "slide_type": "slide"
    }
   },
   "source": [
    "## `for` 문\n",
    "\n",
    "`for`문은 정해진 범위 내(시퀀스)에서 순차적으로 코드를 실행합니다.\n",
    "\n",
    "<br>\n",
    "<center>\n",
    "    <img src=\"./images/02/loop-for.png\", alt=\"\">\n",
    "</center>"
   ]
  },
  {
   "cell_type": "code",
   "execution_count": null,
   "metadata": {
    "slideshow": {
     "slide_type": "subslide"
    }
   },
   "outputs": [],
   "source": [
    "ss3 = {\"황은석\", \"지상현\", \"조성규\", \"장재영\", \"이지선\"}\n",
    "for ace in ss3:\n",
    "    print(ace)\n",
    "    \n",
    "for numb in range(10):\n",
    "    print(numb)\n",
    "    \n",
    "print(\"----\", numb) #파이썬의 특징.. 다른 언어에서는 안된다고 한다. for문에서 사용한 변수이름은 다시 사용하지 않는게 좋다."
   ]
  },
  {
   "cell_type": "markdown",
   "metadata": {
    "slideshow": {
     "slide_type": "subslide"
    }
   },
   "source": [
    "<center>\n",
    "    <img src=\"./images/02/for_style.png\", alt=\"for_style\">\n",
    "</center>\n",
    "\n",
    "---\n",
    "```\n",
    "for variable in sequence:\n",
    "    code line1\n",
    "    code line2\n",
    "```\n",
    "\n",
    "`for`문은 `sequence`를 순차적으로 **variable**에 값을 바인딩하며, 코드 블록을 시행합니다."
   ]
  },
  {
   "cell_type": "markdown",
   "metadata": {
    "slideshow": {
     "slide_type": "subslide"
    }
   },
   "source": [
    "![for animation](./images/02/for.gif)"
   ]
  },
  {
   "cell_type": "markdown",
   "metadata": {
    "slideshow": {
     "slide_type": "subslide"
    }
   },
   "source": [
    "###  실습문제\n",
    "\n",
    "> 반복문과 조건문만 활용하여 1~30까지 숫자 중에 홀수만 담긴 리스트를 만드세요\n",
    "\n",
    "---\n",
    "```\n",
    "예시 출력)\n",
    "[1, 3, 5, 7, 9, 11, 13, 15, 17, 19, 21, 23, 25, 27, 29]\n",
    "```"
   ]
  },
  {
   "cell_type": "code",
   "execution_count": null,
   "metadata": {
    "slideshow": {
     "slide_type": "subslide"
    }
   },
   "outputs": [],
   "source": [
    "# 여기에 코드를 작성하세요.\n",
    "numbers = range(1,31)\n",
    "odd_list = []\n",
    "for i in numbers:\n",
    "    if i % 2:\n",
    "        odd_list += [i] #odd_list.append(i)\n",
    "    \n",
    "print(odd_list)"
   ]
  },
  {
   "cell_type": "code",
   "execution_count": null,
   "metadata": {},
   "outputs": [],
   "source": [
    "# 1부터 100까지 자연수 중 5의 배수들의 총합을 구하라.\n",
    "\n",
    "numbers = range(1,101)\n",
    "five_sum = 0\n",
    "for i in numbers:\n",
    "    if i % 5:\n",
    "        pass\n",
    "    else:\n",
    "        five_sum += i\n",
    "        \n",
    "print(five_sum)\n"
   ]
  },
  {
   "cell_type": "markdown",
   "metadata": {},
   "source": [
    "### 실습문제\n",
    "#### sigma\n",
    "> 정수 n이 들어오면, 1~n까지의 합을 출력하는데, 함수로"
   ]
  },
  {
   "cell_type": "code",
   "execution_count": null,
   "metadata": {},
   "outputs": [],
   "source": [
    "def sum_of_range(n):\n",
    "    numbers = range(1,n+1)\n",
    "    sum_whole = 0\n",
    "    for i in numbers:\n",
    "        sum_whole += i\n",
    "    return sum_whole\n",
    "\n",
    "\n",
    "input_number = int(input(\"숫자를 입력하세요 : \"))\n",
    "\n",
    "print(sum_of_range(input_number))"
   ]
  },
  {
   "cell_type": "markdown",
   "metadata": {},
   "source": [
    "### 실습문제\n",
    "#### 99단\n",
    "> `for`와 `range`로 99단 출력하기"
   ]
  },
  {
   "cell_type": "code",
   "execution_count": null,
   "metadata": {},
   "outputs": [],
   "source": [
    "#  1 2 3 4 5 6 7 8 9\n",
    "#  2 4 6 8 10 12 14 .. 띄어쓰기 2칸으로 구분\n",
    "\n",
    "nine_nine = [1, 2, 3, 4, 5, 6, 7, 8, 9]\n",
    "for i in nine_nine:\n",
    "    array_number = range( i, i*9+1, i )\n",
    "    array_part = array_number\n",
    "    j = 0\n",
    "    for j in range( 0, 9 ):\n",
    "        print( array_part[j], end = \"  \" )\n",
    "#     while j <= 8:\n",
    "#         print(array_part[j], end = \"  \")\n",
    "#         j += 1\n",
    "    print(\"\")\n",
    "        \n",
    "#     for j in array_number[i-1]:\n",
    "#         print(j, end=\"  \")\n",
    "\n",
    "#     for k\n",
    "#     print(array_number[0], array_number[1],array_number[2],array_number[3],array_number[4],array_number[5],array_number[6],array_number[7],array_number[8])"
   ]
  },
  {
   "cell_type": "markdown",
   "metadata": {},
   "source": [
    "### 실습문제\n",
    "#### 삼각형\n",
    "> 입력으로 높이가 들어옵니다. 높이만큼 산 모양으로 출력하세요(함수, 함수인데 프린트로 끝, 즉 no out)\n",
    "\n",
    "\n",
    "> 심화문제 :  맨위에 별 찍기"
   ]
  },
  {
   "cell_type": "code",
   "execution_count": null,
   "metadata": {},
   "outputs": [],
   "source": [
    "##### def triangle(height):\n",
    "#     stars = range(1, height+1, 2)\n",
    "#     print(\"☆\".center(height+1,' '))\n",
    "#     for i in stars:\n",
    "#         print((i*'*').center(height+1, ' '))\n",
    "\n",
    "def triangle(height):\n",
    "    i = 0\n",
    "    print(\" \" * (height - i) + \"☆\")\n",
    "    while i < height:\n",
    "        print(\" \"  * (height -  i) + (2*i+1) * \"*\" )\n",
    "        i += 1\n",
    "\n",
    "height = int(input(\"높이를 입력주세요 : \"))\n",
    "triangle(height)\n",
    "print(\"높이는\", height)"
   ]
  },
  {
   "cell_type": "markdown",
   "metadata": {
    "slideshow": {
     "slide_type": "slide"
    }
   },
   "source": [
    "### index와 함께 `for`문 활용하기\n",
    "\n",
    "`enumerate()`를 활용하면, 추가적인 변수를 활용할 수 있다."
   ]
  },
  {
   "cell_type": "code",
   "execution_count": null,
   "metadata": {},
   "outputs": [],
   "source": [
    "lunch = [\"생선까스\", \"북어해장국\", \"비엔나소세지\"]\n",
    "\n",
    "for index, menu in enumerate(lunch):\n",
    "    print(index, menu)"
   ]
  },
  {
   "cell_type": "markdown",
   "metadata": {
    "slideshow": {
     "slide_type": "subslide"
    }
   },
   "source": [
    "* `enumerate()`는 [파이썬 표준 라이브러리의 내장함수](https://docs.python.org/ko/3.6/library/functions.html) 중 하나이며, 다음과 같이 구성되어 있다.\n",
    "\n",
    "<center>\n",
    "    <img src=\"./images/02/enumerate.png\", alt=\"enumerate\">\n",
    "</center>"
   ]
  },
  {
   "cell_type": "code",
   "execution_count": null,
   "metadata": {},
   "outputs": [],
   "source": [
    "mates = [\"박준태\", \"박찬미\", \"백지원\", \"송건호\", \"안도건\"]\n",
    "list(enumerate(mates))"
   ]
  },
  {
   "cell_type": "code",
   "execution_count": null,
   "metadata": {
    "slideshow": {
     "slide_type": "-"
    }
   },
   "outputs": [],
   "source": [
    "list(enumerate(mates, start=1))"
   ]
  },
  {
   "cell_type": "markdown",
   "metadata": {
    "slideshow": {
     "slide_type": "subslide"
    }
   },
   "source": [
    "### dictionary 반복문 활용하기\n",
    "\n",
    "기본적으로 dictionary를 `for`문을 시행시키면 다음과 같이 시행됩니다."
   ]
  },
  {
   "cell_type": "code",
   "execution_count": null,
   "metadata": {},
   "outputs": [],
   "source": [
    "classroom = { \"teacher\" : \"yu\", \"leader\" : \"Hwang\", \"CA\" : \"kang\"}\n",
    "\n",
    "for role in classroom:\n",
    "    print(role)"
   ]
  },
  {
   "cell_type": "markdown",
   "metadata": {
    "slideshow": {
     "slide_type": "subslide"
    }
   },
   "source": [
    "dictionary의 `key`를 출력함으로써 `value`에도 접근할 수 있기 때문입니다.\n",
    "\n",
    "따라서 dictionary의 value를 출력하기 위해서는 아래와 같이 작성합니다."
   ]
  },
  {
   "cell_type": "code",
   "execution_count": null,
   "metadata": {},
   "outputs": [],
   "source": [
    "for role in classroom:\n",
    "    print(classroom[role])"
   ]
  },
  {
   "cell_type": "markdown",
   "metadata": {
    "slideshow": {
     "slide_type": "subslide"
    }
   },
   "source": [
    "* dictionary에서 `for` 활용하는 4가지 방법\n",
    "\n",
    "```python\n",
    "# 0. dictionary (key 반복)\n",
    "for key in dict:\n",
    "    print(key)\n",
    "\n",
    "# 1. key 반복\n",
    "for key in dict.keys():\n",
    "    print(key)\n",
    "    \n",
    "# 2. value 반복    \n",
    "for val in dict.values():\n",
    "    print(val)\n",
    "\n",
    "# 3. key와 value 반복\n",
    "for key, val in dict.items():\n",
    "    print(key, val)\n",
    "\n",
    "```"
   ]
  },
  {
   "cell_type": "markdown",
   "metadata": {
    "slideshow": {
     "slide_type": "subslide"
    }
   },
   "source": [
    "### 실습문제 \n",
    "\n",
    "> 한번 직접 4가지 반복문을 활용해보고 출력되는 결과를 확인해보세요.\n",
    "\n",
    "```\n",
    "classroom = {\"teacher\": \"Kim\", \"student1\": \"Hong\", \"student2\": \"Kang\"}\n",
    "\n",
    "```"
   ]
  },
  {
   "cell_type": "code",
   "execution_count": null,
   "metadata": {},
   "outputs": [],
   "source": [
    "# 여기에 코드를 작성하세요.\n",
    "classroom = {\"teacher\": \"Kim\", \"student1\": \"Hong\", \"student2\": \"Kang\"}\n",
    "\n",
    "classr = []\n",
    "\n",
    "for key in classroom:\n",
    "    print(key)\n",
    "\n",
    "for key in classroom.keys():\n",
    "    print(key)\n",
    "    \n",
    "for val in classroom.values():\n",
    "    print(val)\n",
    "    \n",
    "for key, val in classroom.items():\n",
    "    print(f\"{key} is {val}\")"
   ]
  },
  {
   "cell_type": "markdown",
   "metadata": {
    "slideshow": {
     "slide_type": "slide"
    }
   },
   "source": [
    "## `break`, `continue`, `else`\n",
    "\n",
    "### `break`\n",
    "\n",
    "`break`문은 반복문을 종료하는 표현입니다. "
   ]
  },
  {
   "cell_type": "code",
   "execution_count": null,
   "metadata": {},
   "outputs": [],
   "source": [
    "for i in range(10):\n",
    "    if i == 6:\n",
    "        break\n",
    "    print(i)"
   ]
  },
  {
   "cell_type": "markdown",
   "metadata": {
    "slideshow": {
     "slide_type": "subslide"
    }
   },
   "source": [
    "#### 실습문제\n",
    "\n",
    "> 조건문과 반복문, break를 통해서 아래의 코드와 동일한 코드를 작성하세요.\n",
    "> \n",
    "> (3이 있을 경우 True를 print하고, 아닐 경우 False를 print 합니다.)\n",
    "\n",
    "\n",
    "```python\n",
    "numbers = [1, 5, 10]\n",
    "print(3 in numbers)\n",
    "```\n",
    "\n",
    "---\n",
    "```\n",
    "예시 출력)\n",
    "False\n",
    "```"
   ]
  },
  {
   "cell_type": "code",
   "execution_count": null,
   "metadata": {},
   "outputs": [],
   "source": [
    "numbers = [1, 5, 10]\n",
    "# 여기에 코드를 작성하세요.\n",
    "\n",
    "\n",
    "\n",
    "for key in numbers:\n",
    "    if key == 3:\n",
    "        print(\"True\")\n",
    "        break\n",
    "else:\n",
    "    print(\"False\")\n",
    "\n",
    "# i = 0    \n",
    "# for key in numbers:\n",
    "#     if key == 3:\n",
    "#         i += 1\n",
    "#         break\n",
    "# print(bool(i))"
   ]
  },
  {
   "cell_type": "markdown",
   "metadata": {
    "slideshow": {
     "slide_type": "subslide"
    }
   },
   "source": [
    "### `continue` \n",
    "\n",
    "`continue`문은 continue 이후의 코드를 수행하지 않고 다음 요소를 선택해 반복을 계속 수행합니다."
   ]
  },
  {
   "cell_type": "code",
   "execution_count": null,
   "metadata": {},
   "outputs": [],
   "source": [
    "for i in range(20):\n",
    "    if i % 2 == 0:\n",
    "            continue\n",
    "    print(f\"{i} is odd number\")"
   ]
  },
  {
   "cell_type": "markdown",
   "metadata": {
    "slideshow": {
     "slide_type": "subslide"
    }
   },
   "source": [
    "### `else`\n",
    "\n",
    "`else`문은 끝까지 반복문을 시행한 이후에 실행됩니다.\n",
    "\n",
    "(`break`를 통해 중간에 종료되지 않은 경우만 실행)"
   ]
  },
  {
   "cell_type": "code",
   "execution_count": null,
   "metadata": {},
   "outputs": [],
   "source": [
    "for i in range(3):\n",
    "    if i == 3:\n",
    "        print(f\"{i}에서 break 실행됨\")\n",
    "        break\n",
    "else:\n",
    "    print(\"break안걸림\")"
   ]
  },
  {
   "cell_type": "code",
   "execution_count": null,
   "metadata": {},
   "outputs": [],
   "source": [
    "for i in range(3):\n",
    "    if i == 2:\n",
    "        print(f\"{i}에서 break 실행됨\")\n",
    "        break\n",
    "else:\n",
    "    print(\"break안걸림\")"
   ]
  },
  {
   "cell_type": "markdown",
   "metadata": {},
   "source": [
    "## Problem set! "
   ]
  },
  {
   "cell_type": "markdown",
   "metadata": {},
   "source": [
    "> 다음 리스트에서 0, 4, 5 index에 있는 요소를 삭제한 새로운 리스트를 만드세요.\n",
    "\n",
    "`colors = ['red', 'green', 'blue', 'white', 'black', 'gold']`"
   ]
  },
  {
   "cell_type": "code",
   "execution_count": null,
   "metadata": {},
   "outputs": [],
   "source": [
    "colors = ['red', 'green', 'blue', 'white', 'black', 'gold']\n",
    "new_colors = list(enumerate(colors[1:4]))\n",
    "print(new_colors)\n",
    "\n",
    "\n",
    "delete_index = [0, 4, 5]\n",
    "remain_colors = []\n",
    "\n",
    "# for index, color in enumerate(colors):\n",
    "#     if index not in delete_index:\n",
    "#         remain_colors.append(color)\n",
    "\n",
    "# print(remain_colors)\n",
    "\n",
    "for color in colors:\n",
    "    if colors.index(color) not in [0, 4, 5]:\n",
    "        remain_colors.append(color)\n",
    "        \n",
    "print(remain_colors)\n",
    "\n"
   ]
  },
  {
   "cell_type": "markdown",
   "metadata": {},
   "source": [
    "달력 출력하기\n",
    "> 1월부터 12월까지 다음과 같은 형태로 달력을 출력하세요\n",
    "\n",
    "1 월\n",
    "일 월 화 수 목 금 토 (1 space)\n",
    "1  2  3  4  5  6  7 (2 space)\n",
    "8  9  10  11  12  13  14\n",
    "15  16  17  18  19  20  21\n",
    "22  23  24  25  26  27  28\n",
    "29  30  31\n",
    "\n",
    "심화 : 1자리일때 3space\n",
    "2자리일때 2space\n",
    "\n"
   ]
  },
  {
   "cell_type": "code",
   "execution_count": 10,
   "metadata": {},
   "outputs": [
    {
     "name": "stdout",
     "output_type": "stream",
     "text": [
      "1 월\n",
      "----------------------\n",
      "일 월 화 수 목 금 토\n",
      "   1  2  3  4  5  6  7  \n",
      "8  9  10  11  12  13  14  \n",
      "15  16  17  18  19  20  21  \n",
      "22  23  24  25  26  27  28  \n",
      "29  30  31  \n",
      "\n",
      "2 월\n",
      "----------------------\n",
      "일 월 화 수 목 금 토\n",
      "   1  2  3  4  \n",
      "5  6  7  8  9  10  11  \n",
      "12  13  14  15  16  17  18  \n",
      "19  20  21  22  23  24  25  \n",
      "26  27  28  \n",
      "\n",
      "3 월\n",
      "----------------------\n",
      "일 월 화 수 목 금 토\n",
      "   1  2  3  4  5  6  7  \n",
      "8  9  10  11  12  13  14  \n",
      "15  16  17  18  19  20  21  \n",
      "22  23  24  25  26  27  28  \n",
      "29  30  31  \n",
      "\n",
      "4 월\n",
      "----------------------\n",
      "일 월 화 수 목 금 토\n",
      "   1  2  3  4  \n",
      "5  6  7  8  9  10  11  \n",
      "12  13  14  15  16  17  18  \n",
      "19  20  21  22  23  24  25  \n",
      "26  27  28  29  30  \n",
      "\n",
      "5 월\n",
      "----------------------\n",
      "일 월 화 수 목 금 토\n",
      "   1  2  3  4  5  \n",
      "6  7  8  9  10  11  12  \n",
      "13  14  15  16  17  18  19  \n",
      "20  21  22  23  24  25  26  \n",
      "27  28  29  30  31  \n",
      "\n",
      "6 월\n",
      "----------------------\n",
      "일 월 화 수 목 금 토\n",
      "   1  2  3  4  \n",
      "5  6  7  8  9  10  11  \n",
      "12  13  14  15  16  17  18  \n",
      "19  20  21  22  23  24  25  \n",
      "26  27  28  29  30  \n",
      "\n",
      "7 월\n",
      "----------------------\n",
      "일 월 화 수 목 금 토\n",
      "   1  2  3  4  5  \n",
      "6  7  8  9  10  11  12  \n",
      "13  14  15  16  17  18  19  \n",
      "20  21  22  23  24  25  26  \n",
      "27  28  29  30  31  \n",
      "\n",
      "8 월\n",
      "----------------------\n",
      "일 월 화 수 목 금 토\n",
      "   1  2  3  4  \n",
      "5  6  7  8  9  10  11  \n",
      "12  13  14  15  16  17  18  \n",
      "19  20  21  22  23  24  25  \n",
      "26  27  28  29  30  \n",
      "\n",
      "9 월\n",
      "----------------------\n",
      "일 월 화 수 목 금 토\n",
      "   1  2  3  4  5  \n",
      "6  7  8  9  10  11  12  \n",
      "13  14  15  16  17  18  19  \n",
      "20  21  22  23  24  25  26  \n",
      "27  28  29  30  31  \n",
      "\n",
      "10 월\n",
      "----------------------\n",
      "일 월 화 수 목 금 토\n",
      "   1  2  3  4  \n",
      "5  6  7  8  9  10  11  \n",
      "12  13  14  15  16  17  18  \n",
      "19  20  21  22  23  24  25  \n",
      "26  27  28  29  30  \n",
      "\n",
      "11 월\n",
      "----------------------\n",
      "일 월 화 수 목 금 토\n",
      "   1  2  3  4  5  \n",
      "6  7  8  9  10  11  12  \n",
      "13  14  15  16  17  18  19  \n",
      "20  21  22  23  24  25  26  \n",
      "27  28  29  30  31  \n",
      "\n",
      "12 월\n",
      "----------------------\n",
      "일 월 화 수 목 금 토\n",
      "   1  2  3  4  \n",
      "5  6  7  8  9  10  11  \n",
      "12  13  14  15  16  17  18  \n",
      "19  20  21  22  23  24  25  \n",
      "26  27  28  29  30  \n",
      "\n"
     ]
    }
   ],
   "source": [
    
    "month = range(1,13)\n",
    "\n",
    "last_day_check = 0\n",
    "\n",
    "\n",
    "for month_number in range(1,13):\n",
    "    print("**************************")\n",
    "    print("           {} 월".format(month_number))\n",
    "    print("--------------------------")\n",
    "    print("일  월  화  수  목  금  토")\n",
    "    print("--------------------------")\n",
    "    number_of_days = 30 + month_number % 2\n",
    "    if month_number == 2:\n",
    "        number_of_days = 28\n",
    "\n",
    "    i = last_day_check\n",
    "    \n",
    "    print(\" \", end = \"  \")\n",
    "    for days in range(1,number_of_days+1):\n",
    "        print(days, end = \"  \")\n",
    "        i += 1\n",
    "        if i % 7 == 0:\n",
    "            print(\"\")\n",
    "        \n",
    "    print(\"\\n\")\n",
    "    last_day_check = (30 + month_number % 2) % 7\n",
    "    if month_number == 2:\n",
    "        last_day_check = 0\n",
    "    \n",
    "#         if days == \n",
    "    \n",
    "    \n",
    "    \n",
    "    \n",
    "    \n",
    "    \n",
    "    \n",
    "#     for week in range(5):\n",
    "#         for k in range(1, 8):\n",
    "#             print(last_day_check + k, end = \"  \")\n",
    "#             if (last_day_check + k * (week + 1)) > 7 * (week + 1):\n",
    "                \n",
    "                \n",
    "        \n",
    "            \n",
    "            \n",
    "            \n",
    "            \n",
    "            \n",
    "            \n",
    "            \n",
    "            \n",
    "#             while (last_day_check + k) <= 7*(week+1):\n",
    "#                 if month_number == 2 and (last_day_check + k) > 28:\n",
    "#                     break\n",
    "#                 if (last_day_check + k) > 30 + month_number %2:\n",
    "#                     break\n",
    "#                 print(last_day_check + k, end = \"  \")\n",
    "#                 break\n",
    "#             print(\"\")\n",
    "#         print(\"\")\n",
    "    last_day_check = (30 + month_number % 2) % 7\n",
    "    if month_number == 2:\n",
    "        last_day_check = 0\n",
    "    \n",
    "#     print( last_day_check )\n",
    "\n",
    "  \n"
   ]
  },
  {
   "cell_type": "code",
   "execution_count": null,
   "metadata": {},
   "outputs": [],
   "source": []
  }
 ],
 "metadata": {
  "celltoolbar": "Slideshow",
  "kernelspec": {
   "display_name": "Python 3",
   "language": "python",
   "name": "python3"
  },
  "language_info": {
   "codemirror_mode": {
    "name": "ipython",
    "version": 3
   },
   "file_extension": ".py",
   "mimetype": "text/x-python",
   "name": "python",
   "nbconvert_exporter": "python",
   "pygments_lexer": "ipython3",
   "version": "3.6.7"
  },
  "toc": {
   "base_numbering": 1,
   "nav_menu": {},
   "number_sections": true,
   "sideBar": true,
   "skip_h1_title": false,
   "title_cell": "Table of Contents",
   "title_sidebar": "Contents",
   "toc_cell": false,
   "toc_position": {},
   "toc_section_display": true,
   "toc_window_display": false
  }
 },
 "nbformat": 4,
 "nbformat_minor": 2
}
