{
 "cells": [
  {
   "cell_type": "code",
   "execution_count": 32,
   "metadata": {},
   "outputs": [
    {
     "name": "stdout",
     "output_type": "stream",
     "text": [
      "탑을 다른 장소로 옮기기 위해 필요한 최소의 횟수 : 15 번\n",
      "[[[1, 2, 3, 4], [], []], [[2, 3, 4], [1], []], [[3, 4], [1], [2]], [[3, 4], [], [1, 2]], [[4], [3], [1, 2]], [[1, 4], [3], [2]], [[1, 4], [2, 3], []], [[4], [1, 2, 3], []], [[], [1, 2, 3], [4]], [[], [2, 3], [1, 4]], [[2], [3], [1, 4]], [[1, 2], [3], [4]], [[1, 2], [], [3, 4]], [[2], [1], [3, 4]], [[], [1], [2, 3, 4]], [[], [], [1, 2, 3, 4]]]\n"
     ]
    }
   ],
   "source": [
    "def hanoi(n, result = [ [ [1], [], [] ] , [ [], [1], [] ] ], i = 2, result_final = []):\n",
    "    if n == 1:\n",
    "        print(\"탑을 다른 장소로 옮기기 위해 필요한 최소의 횟수 :\", len(result)-1, \"번\")\n",
    "        return result \n",
    "    elif i % 2 == 0:\n",
    "        result1 = []\n",
    "        result2 = []\n",
    "        for bunch_of_list in result:\n",
    "            result1 += [[bunch_of_list[0] + [i], bunch_of_list[1], bunch_of_list[2]]]\n",
    "        for bunch_of_list in reversed(result1):\n",
    "            result2 += [[bunch_of_list[2], bunch_of_list[1], bunch_of_list[0]]]\n",
    "        result_final = result1 + result2\n",
    "        i += 1   \n",
    "        return hanoi(n-1, result_final, i)\n",
    "    else:  \n",
    "        result1 = []\n",
    "        result2 = []    \n",
    "        for bunch_of_list in result:\n",
    "            result1 += [[bunch_of_list[0] + [i], bunch_of_list[1], bunch_of_list[2]]]\n",
    "        for bunch_of_list in reversed(result1):\n",
    "            result2 += [[bunch_of_list[1], bunch_of_list[0], bunch_of_list[2]]]\n",
    "        result_final = result1 + result2\n",
    "        i += 1\n",
    "        return hanoi(n-1, result_final, i)\n",
    "            \n",
    "print(hanoi(4))"
   ]
  }
 ],
 "metadata": {
  "kernelspec": {
   "display_name": "Python 3",
   "language": "python",
   "name": "python3"
  },
  "language_info": {
   "codemirror_mode": {
    "name": "ipython",
    "version": 3
   },
   "file_extension": ".py",
   "mimetype": "text/x-python",
   "name": "python",
   "nbconvert_exporter": "python",
   "pygments_lexer": "ipython3",
   "version": "3.7.1"
  }
 },
 "nbformat": 4,
 "nbformat_minor": 2
}
