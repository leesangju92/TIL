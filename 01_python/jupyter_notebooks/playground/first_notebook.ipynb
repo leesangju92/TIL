{
 "cells": [
  {
   "cell_type": "code",
   "execution_count": null,
   "metadata": {},
   "outputs": [],
   "source": [
    "first_name = 'lee'\n",
    "last_name = 'sangju'"
   ]
  },
  {
   "cell_type": "code",
   "execution_count": null,
   "metadata": {},
   "outputs": [],
   "source": [
    "last_name + first_name"
   ]
  },
  {
   "cell_type": "code",
   "execution_count": null,
   "metadata": {},
   "outputs": [],
   "source": [
    "2 ** 15"
   ]
  },
  {
   "cell_type": "code",
   "execution_count": null,
   "metadata": {},
   "outputs": [],
   "source": [
    "full_name = last_name + first_name\n",
    "full_name"
   ]
  },
  {
   "cell_type": "code",
   "execution_count": 61,
   "metadata": {},
   "outputs": [],
   "source": [
    "num1 = 24\n",
    "num2 = 40"
   ]
  },
  {
   "cell_type": "code",
   "execution_count": 62,
   "metadata": {},
   "outputs": [
    {
     "name": "stdout",
     "output_type": "stream",
     "text": [
      "40 24\n",
      "8\n"
     ]
    }
   ],
   "source": [
    "#최대공약수 함수 만들기\n",
    "temp = 0\n",
    "\n",
    "if num2 > num1:\n",
    "    temp = num1\n",
    "    num1 = num2\n",
    "    num2 = temp\n",
    "    \n",
    "#1씩 뺄셈해가면서 나누기\n",
    "print(num1,num2)\n",
    "\n",
    "prac = num2\n",
    "\n",
    "\n",
    "while prac > 0:\n",
    "    if num1 % prac == 0 and num2 % prac == 0:\n",
    "        gcd = prac\n",
    "        break\n",
    "    prac -= 1\n",
    "\n",
    "print(gcd)"
   ]
  },
  {
   "cell_type": "code",
   "execution_count": 65,
   "metadata": {},
   "outputs": [
    {
     "name": "stdout",
     "output_type": "stream",
     "text": [
      "최소공배수는 120\n",
      "최대공약수는 8\n"
     ]
    }
   ],
   "source": [
    "#최소공배수\n",
    "lcm = num1 * num2 / gcd\n",
    "print('최소공배수는',int(lcm))\n",
    "print('최대공약수는',gcd)\n"
   ]
  }
 ],
 "metadata": {
  "kernelspec": {
   "display_name": "Python 3",
   "language": "python",
   "name": "python3"
  },
  "language_info": {
   "codemirror_mode": {
    "name": "ipython",
    "version": 3
   },
   "file_extension": ".py",
   "mimetype": "text/x-python",
   "name": "python",
   "nbconvert_exporter": "python",
   "pygments_lexer": "ipython3",
   "version": "3.6.7"
  }
 },
 "nbformat": 4,
 "nbformat_minor": 2
}
