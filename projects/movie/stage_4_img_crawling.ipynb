{
 "cells": [
  {
   "cell_type": "code",
   "execution_count": 1,
   "metadata": {},
   "outputs": [],
   "source": [
    "import requests\n",
    "import csv\n",
    "import time\n",
    "import urllib.request"
   ]
  },
  {
   "cell_type": "code",
   "execution_count": 2,
   "metadata": {},
   "outputs": [],
   "source": [
    "f_r = open(\"movie_naver.csv\", \"r\", encoding=\"utf-8\")\n",
    "reader = csv.reader(f_r)\n",
    "movie_images_dict = {}\n",
    "for line in reader:\n",
    "    movie_images_dict[line[0]] = line[1]"
   ]
  },
  {
   "cell_type": "code",
   "execution_count": 3,
   "metadata": {},
   "outputs": [],
   "source": [
    "for key, value in movie_images_dict.items():\n",
    "    outpath = \"C:/users/student/projects/movie/images/\"\n",
    "    outfile = f\"{key}.jpg\"\n",
    "    urllib.request.urlretrieve(value, outpath + outfile)    "
   ]
  },
  {
   "cell_type": "code",
   "execution_count": 3,
   "metadata": {},
   "outputs": [
    {
     "data": {
      "text/plain": [
       "{'20177538': 'https://ssl.pstatic.net/imgmovie/mdi/mit110/1676/167638_P71_133542.jpg',\n",
       " '20185485': 'https://ssl.pstatic.net/imgmovie/mdi/mit110/1564/156464_P49_182103.jpg',\n",
       " '20170513': 'https://ssl.pstatic.net/imgmovie/mdi/mit110/1666/166610_P58_154049.jpg',\n",
       " '20181171': 'https://ssl.pstatic.net/imgmovie/mdi/mit110/1736/173692_P12_102159.jpg',\n",
       " '20174981': 'https://ssl.pstatic.net/imgmovie/mdi/mit110/1604/160487_P48_113750.jpg',\n",
       " '20010291': 'https://ssl.pstatic.net/imgmovie/mdi/mit110/0306/30688_P28_142632.jpg',\n",
       " '20179006': 'https://ssl.pstatic.net/imgmovie/mdi/mit110/1717/171750_P05_173050.jpg',\n",
       " '20181404': 'https://ssl.pstatic.net/imgmovie/mdi/mit110/1641/164155_P03_122329.jpg',\n",
       " '20180523': 'https://ssl.pstatic.net/imgmovie/mdi/mit110/1680/168050_P19_100458.jpg',\n",
       " '20182693': 'https://ssl.pstatic.net/imgmovie/mdi/mit110/1728/172819_P01_163303.jpg',\n",
       " '20176814': 'https://ssl.pstatic.net/imgmovie/mdi/mit110/1542/154255_P24_095824.jpg',\n",
       " '20183050': 'https://ssl.pstatic.net/imgmovie/mdi/mit110/1763/176354_P13_150227.jpg',\n",
       " '20184481': 'https://ssl.pstatic.net/imgmovie/mdi/mit110/1748/174835_P26_105639.jpg',\n",
       " '20182935': 'https://ssl.pstatic.net/imgmovie/mdi/mit110/1791/179139_P14_100455.jpg',\n",
       " '20186822': 'https://ssl.pstatic.net/imgmovie/mdi/mit110/1753/175318_P15_105507.jpg',\n",
       " '20189869': 'https://ssl.pstatic.net/imgmovie/mdi/mit110/1641/164147_P46_165808.jpg',\n",
       " '20183073': 'https://ssl.pstatic.net/imgmovie/mdi/mit110/1449/144906_P15_103017.jpg',\n",
       " '20182669': 'https://ssl.pstatic.net/imgmovie/mdi/mit110/1546/154653_P12_102646.jpg',\n",
       " '20177552': 'https://ssl.pstatic.net/imgmovie/mdi/mit110/1641/164192_P45_134107.jpg',\n",
       " '20181905': 'https://ssl.pstatic.net/imgmovie/mdi/mit110/1442/144266_P15_111933.jpg',\n",
       " '20183007': 'https://ssl.pstatic.net/imgmovie/mdi/mit110/1618/161868_P24_151256.jpg',\n",
       " '20182966': 'https://ssl.pstatic.net/imgmovie/mdi/mit110/1791/179138_P01_151818.jpg',\n",
       " '20179230': 'https://ssl.pstatic.net/imgmovie/mdi/mit110/1717/171755_P39_140011.jpg',\n",
       " '20189843': 'https://ssl.pstatic.net/imgmovie/mdi/mit110/1586/158622_P18_142307.jpg',\n",
       " '20178825': 'https://ssl.pstatic.net/imgmovie/mdi/mit110/1564/156496_P24_153246.jpg',\n",
       " '20183745': 'https://ssl.pstatic.net/imgmovie/mdi/mit110/1803/180384_P14_152246.jpg',\n",
       " '20183238': 'https://ssl.pstatic.net/imgmovie/mdi/mit110/1717/171725_P18_175530.jpg',\n",
       " '20182082': 'https://ssl.pstatic.net/imgmovie/mdi/mit110/1714/171452_P19_174244.jpg',\n",
       " '20175547': 'https://ssl.pstatic.net/imgmovie/mdi/mit110/1641/164101_P62_155759.jpg',\n",
       " '20180290': 'https://ssl.pstatic.net/imgmovie/mdi/mit110/1511/151153_P19_095147.jpg',\n",
       " '20168773': 'https://ssl.pstatic.net/imgmovie/mdi/mit110/1572/157297_P23_134212.jpg',\n",
       " '20182421': 'https://ssl.pstatic.net/imgmovie/mdi/mit110/1506/150688_P30_101919.jpg',\n",
       " '20183479': 'https://ssl.pstatic.net/imgmovie/mdi/mit110/1729/172975_P10_141815.jpg',\n",
       " '20183375': 'https://ssl.pstatic.net/imgmovie/mdi/mit110/1721/172187_P19_110125.jpg',\n",
       " '20186281': 'https://ssl.pstatic.net/imgmovie/mdi/mit110/1641/164139_P12_153521.jpg',\n",
       " '20170658': 'https://ssl.pstatic.net/imgmovie/mdi/mit110/1660/166092_P35_104446.jpg',\n",
       " '20183785': 'https://ssl.pstatic.net/imgmovie/mdi/mit110/1803/180379_P32_111508.jpg',\n",
       " '20189463': 'https://ssl.pstatic.net/imgmovie/mdi/mit110/1526/152632_P19_104759.jpg',\n",
       " '20184187': 'https://ssl.pstatic.net/imgmovie/mdi/mit110/1523/152344_P75_112734.jpg',\n",
       " '20184105': 'https://ssl.pstatic.net/imgmovie/mdi/mit110/1676/167699_P40_175859.jpg',\n",
       " '20176251': 'https://ssl.pstatic.net/imgmovie/mdi/mit110/1641/164172_P26_152224.jpg',\n",
       " '20183915': 'https://ssl.pstatic.net/imgmovie/mdi/mit110/1803/180372_P16_101254.jpg',\n",
       " '20184574': 'https://ssl.pstatic.net/imgmovie/mdi/mit110/1715/171539_P26_135622.jpg'}"
      ]
     },
     "execution_count": 3,
     "metadata": {},
     "output_type": "execute_result"
    }
   ],
   "source": [
    "movie_images_dict"
   ]
  }
 ],
 "metadata": {
  "kernelspec": {
   "display_name": "Python 3",
   "language": "python",
   "name": "python3"
  },
  "language_info": {
   "codemirror_mode": {
    "name": "ipython",
    "version": 3
   },
   "file_extension": ".py",
   "mimetype": "text/x-python",
   "name": "python",
   "nbconvert_exporter": "python",
   "pygments_lexer": "ipython3",
   "version": "3.6.7"
  }
 },
 "nbformat": 4,
 "nbformat_minor": 2
}
