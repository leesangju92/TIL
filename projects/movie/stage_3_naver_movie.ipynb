{
 "cells": [
  {
   "cell_type": "code",
   "execution_count": 1,
   "metadata": {},
   "outputs": [],
   "source": [
    "import requests\n",
    "import csv\n",
    "import time\n",
    "import os\n",
    "\n",
    "\n",
    "f_r = open(\"movie.csv\", \"r\", encoding=\"utf-8\")\n",
    "reader = csv.reader(f_r)\n",
    "movie_search_dict = {}\n",
    "for line in reader:\n",
    "    movie_search_dict[line[0]] = line[1]"
   ]
  },
  {
   "cell_type": "code",
   "execution_count": 2,
   "metadata": {},
   "outputs": [],
   "source": [
    "naver_url = \"https://openapi.naver.com/v1/search/movie.json?query=\"\n",
    "client_id = os.getenv(\"NAVER_CLIENT_ID\")\n",
    "client_secret = os.getenv(\"NAVER_CLIENT_SECRET\")\n",
    "headers = { \n",
    "    \"x-Naver-client-Id\" : client_id,\n",
    "     \"x-Naver-client-Secret\" : client_secret\n",
    "}"
   ]
  },
  {
   "cell_type": "code",
   "execution_count": 3,
   "metadata": {},
   "outputs": [],
   "source": [
    "naver_movie_dict = {}\n",
    "m = 0\n",
    "for key, value in movie_search_dict.items():\n",
    "    data = requests.get(naver_url + value, headers = headers ).json()\n",
    "    naver_movie_dict[f\"{m}\"] = [key, data[\"items\"][0][\"image\"] , data[\"items\"][0][\"link\"], data[\"items\"][0][\"userRating\"]]\n",
    "    m += 1\n",
    "    time.sleep(0.05)"
   ]
  },
  {
   "cell_type": "code",
   "execution_count": 4,
   "metadata": {},
   "outputs": [],
   "source": [
    "f_w = open(\"movie_naver.csv\", \"w+\", encoding=\"utf-8\", newline=\"\")            \n",
    "\n",
    "writer = csv.writer(f_w)\n",
    "\n",
    "for value in naver_movie_dict.values():\n",
    "    writer.writerow(value)\n",
    "\n",
    "f_w.close()"
   ]
  },
  {
   "cell_type": "code",
   "execution_count": null,
   "metadata": {},
   "outputs": [],
   "source": [
    "naver_movie_dict"
   ]
  }
 ],
 "metadata": {
  "kernelspec": {
   "display_name": "Python 3",
   "language": "python",
   "name": "python3"
  },
  "language_info": {
   "codemirror_mode": {
    "name": "ipython",
    "version": 3
   },
   "file_extension": ".py",
   "mimetype": "text/x-python",
   "name": "python",
   "nbconvert_exporter": "python",
   "pygments_lexer": "ipython3",
   "version": "3.6.7"
  }
 },
 "nbformat": 4,
 "nbformat_minor": 2
}
