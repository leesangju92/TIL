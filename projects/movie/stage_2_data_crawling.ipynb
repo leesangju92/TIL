{
 "cells": [
  {
   "cell_type": "code",
   "execution_count": 1,
   "metadata": {},
   "outputs": [],
   "source": [
    "import os\n",
    "\n",
    "key = os.getenv(\"KOBIS_KEY\")"
   ]
  },
  {
   "cell_type": "code",
   "execution_count": 2,
   "metadata": {},
   "outputs": [],
   "source": [
    "import csv\n",
    "import requests\n",
    "import datetime\n",
    "\n",
    "f_r = open(\"boxoffice.csv\", \"r\", encoding=\"utf-8\")\n",
    "\n",
    "reader = csv.reader(f_r)\n",
    "movie_code_list = []\n",
    "movie_info_dict = {}\n",
    "\n",
    "for line in reader:\n",
    "    movie_code_list.append(line[0])"
   ]
  },
  {
   "cell_type": "code",
   "execution_count": 3,
   "metadata": {},
   "outputs": [],
   "source": [
    "for movie_code in movie_code_list:\n",
    "    url = f\"http://www.kobis.or.kr/kobisopenapi/webservice/rest/movie/searchMovieInfo.json?key={key}&movieCd={movie_code}\"\n",
    "    data = requests.get(url).json()\n",
    "    data_set = data[\"movieInfoResult\"][\"movieInfo\"]\n",
    "    actor_list = []\n",
    "    original_name = []\n",
    "#     if data_set[\"movieNmEn\"] == \"\":\n",
    "#         data_set[\"movieNmEn\"] = \"None\"        \n",
    "#     if data_set[\"movieNmOg\"] == \"\":\n",
    "#         data_set[\"movieNmOg\"] = \"None\"\n",
    "    for actor_no in range(len(data_set[\"actors\"])):\n",
    "        if actor_no > 2:\n",
    "            continue\n",
    "        else:\n",
    "            actor_list.append(data_set[\"actors\"][int(actor_no)]['peopleNm'])\n",
    "    movie_info_dict[movie_code_list.index(movie_code)] = [data_set[\"movieCd\"], data_set[\"movieNm\"], data_set[\"movieNmEn\"], data_set[\"movieNmOg\"], data_set[\"openDt\"], data_set[\"showTm\"], data_set[\"genres\"][0][\"genreNm\"], data_set[\"directors\"][0][\"peopleNm\"], data_set[\"audits\"][0]['watchGradeNm']] + actor_list"
   ]
  },
  {
   "cell_type": "code",
   "execution_count": 4,
   "metadata": {},
   "outputs": [],
   "source": [
    "f_w = open(\"movie.csv\", \"w+\", encoding=\"utf-8\", newline=\"\")            \n",
    "\n",
    "writer = csv.writer(f_w)\n",
    "\n",
    "for value in movie_info_dict.values():\n",
    "    writer.writerow(value)\n",
    "\n",
    "f_w.close()"
   ]
  },
  {
   "cell_type": "code",
   "execution_count": null,
   "metadata": {},
   "outputs": [],
   "source": [
    "print(movie_info_dict)"
   ]
  }
 ],
 "metadata": {
  "kernelspec": {
   "display_name": "Python 3",
   "language": "python",
   "name": "python3"
  },
  "language_info": {
   "codemirror_mode": {
    "name": "ipython",
    "version": 3
   },
   "file_extension": ".py",
   "mimetype": "text/x-python",
   "name": "python",
   "nbconvert_exporter": "python",
   "pygments_lexer": "ipython3",
   "version": "3.6.7"
  }
 },
 "nbformat": 4,
 "nbformat_minor": 2
}
