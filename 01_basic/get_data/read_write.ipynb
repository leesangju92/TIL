{
 "cells": [
  {
   "cell_type": "code",
   "execution_count": 46,
   "metadata": {},
   "outputs": [],
   "source": [
    "import csv"
   ]
  },
  {
   "cell_type": "code",
   "execution_count": 47,
   "metadata": {},
   "outputs": [],
   "source": [
    "f_w = open(\"ss35.csv\", \"a+\", encoding=\"utf-8\", newline=\"\")\n",
    "\n",
    "writer = csv.writer(f_w)\n",
    "\n",
    "writer.writerow(\n",
    "    [\"황은석\", \"강진우\"]\n",
    ")\n",
    "\n",
    "f_w.close()"
   ]
  },
  {
   "cell_type": "code",
   "execution_count": 45,
   "metadata": {},
   "outputs": [
    {
     "name": "stdout",
     "output_type": "stream",
     "text": [
      "<class 'list'> 강진우\n",
      "<class 'list'> 강진우\n",
      "<class 'list'> 강진우\n",
      "<class 'list'> 강진우\n",
      "<class 'list'> 강진우\n",
      "<class 'list'> 강진우\n",
      "<class 'list'> 강진우\n",
      "<class 'list'> 강진우\n"
     ]
    }
   ],
   "source": [
    "f_r = open(\"ss34.csv\", \"r\", encoding=\"utf-8\")\n",
    "\n",
    "reader = csv.reader(f_r)\n",
    "for line in reader:\n",
    "    print(type(line),line[1])"
   ]
  }
 ],
 "metadata": {
  "kernelspec": {
   "display_name": "Python 3",
   "language": "python",
   "name": "python3"
  },
  "language_info": {
   "codemirror_mode": {
    "name": "ipython",
    "version": 3
   },
   "file_extension": ".py",
   "mimetype": "text/x-python",
   "name": "python",
   "nbconvert_exporter": "python",
   "pygments_lexer": "ipython3",
   "version": "3.6.7"
  }
 },
 "nbformat": 4,
 "nbformat_minor": 2
}
