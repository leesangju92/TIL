{
 "cells": [
  {
   "cell_type": "code",
   "execution_count": null,
   "metadata": {},
   "outputs": [],
   "source": [
    "import requests\n",
    "import csv\n",
    "\n",
    "f_r = open(\"boxoffice.csv\", \"r\", encoding=\"utf-8\")\n",
    "\n",
    "reader = csv.reader(f_r)\n",
    "movie_code_list = []\n",
    "movie_info_dict = {}\n",
    "\n",
    "for line in reader:\n",
    "    movie_code_list.append(line[0])\n",
    "\n",
    "\n",
    "movies = [\"말모이\", \"주먹왕랄프\", \"보헤미안랩소디\"]\n",
    "\n",
    "naver_url = \"https://openapi.naver.com/v1/search/movie.json?query=\"\n",
    "\n",
    "headers = { \n",
    "    \"x-Naver-client-Id\" : client_id,\n",
    "     \"x-Naver-client-Secret\" : client_secret\n",
    "}\n",
    "res = requests.get(naver_url + movies[0], headers = headers )"
   ]
  },
  {
   "cell_type": "code",
   "execution_count": null,
   "metadata": {},
   "outputs": [],
   "source": [
    "print(res.json())"
   ]
  },
  {
   "cell_type": "code",
   "execution_count": null,
   "metadata": {},
   "outputs": [],
   "source": [
    "data = res.json()"
   ]
  },
  {
   "cell_type": "code",
   "execution_count": null,
   "metadata": {},
   "outputs": [],
   "source": [
    "data"
   ]
  },
  {
   "cell_type": "code",
   "execution_count": null,
   "metadata": {},
   "outputs": [],
   "source": [
    "for movie in movies:\n",
    "    data_set = requests.get(naver_url + movies[0], headers = headers ).json()\n",
    "    movie_info = {}\n",
    "    movie_info[\"link\"] = data_set[\"items\"][0][\"link\"]\n",
    "    movie_info[\"image\"] = data_set[\"items\"][0][\"image\"]\n",
    "    print(movie_info)"
   ]
  }
 ],
 "metadata": {
  "kernelspec": {
   "display_name": "Python 3",
   "language": "python",
   "name": "python3"
  },
  "language_info": {
   "codemirror_mode": {
    "name": "ipython",
    "version": 3
   },
   "file_extension": ".py",
   "mimetype": "text/x-python",
   "name": "python",
   "nbconvert_exporter": "python",
   "pygments_lexer": "ipython3",
   "version": "3.6.7"
  }
 },
 "nbformat": 4,
 "nbformat_minor": 2
}
