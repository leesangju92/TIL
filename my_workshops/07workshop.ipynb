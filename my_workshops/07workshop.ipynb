{
 "cells": [
  {
   "cell_type": "code",
   "execution_count": 6,
   "metadata": {},
   "outputs": [],
   "source": [
    "class circle():\n",
    "    pi = 3.14\n",
    "    x = 2\n",
    "    y = 4\n",
    "    r = 3\n",
    "    \n",
    "    def area(self):\n",
    "        return self.pi * self.r * self.r\n",
    "    def circulference(self):\n",
    "        return 2 * self.pi * self.r\n",
    "    def center(self):\n",
    "        return (self.x, self.y)\n",
    "    def move(self, x, y):\n",
    "        self.x = x\n",
    "        self.y = y\n",
    "\n",
    "my_circle = circle()\n",
    "\n",
    "print(\"넓이는\", round(my_circle.area(),2), \"둘레는\", my_circle.circulference())\n"
   ]
  }
 ],
 "metadata": {
  "kernelspec": {
   "display_name": "Python 3",
   "language": "python",
   "name": "python3"
  },
  "language_info": {
   "codemirror_mode": {
    "name": "ipython",
    "version": 3
   },
   "file_extension": ".py",
   "mimetype": "text/x-python",
   "name": "python",
   "nbconvert_exporter": "python",
   "pygments_lexer": "ipython3",
   "version": "3.6.7"
  }
 },
 "nbformat": 4,
 "nbformat_minor": 2
}
