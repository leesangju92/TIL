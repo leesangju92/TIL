{
 "cells": [
  {
   "cell_type": "code",
   "execution_count": 7,
   "metadata": {
    "scrolled": false
   },
   "outputs": [
    {
     "name": "stdout",
     "output_type": "stream",
     "text": [
      "양의 정수 x를 입력해주세요 : 90192031902940\n",
      "소수점 자릿수 : 5\n",
      "9496948.55745\n"
     ]
    }
   ],
   "source": [
    "n = int(input(\"양의 정수 x를 입력해주세요 : \"))\n",
    "rounds = int(input(\"소수점 자릿수 : \"))\n",
    "\n",
    "def calculate_root(n, rounds, small=1, big=n):\n",
    "    if round(small, rounds + 1) == round(big, rounds + 1):\n",
    "        return round(small, rounds)\n",
    "    else:\n",
    "        if big*big > n :\n",
    "            big = round((big + small) /2, rounds + 2)\n",
    "            return calculate_root(n, rounds, small, big)   \n",
    "        else:\n",
    "            small = big\n",
    "            big = round(small * 2, rounds + 2)\n",
    "            return  calculate_root(n, rounds, small, big)   \n",
    "                \n",
    "print(calculate_root(n, rounds))\n",
    "\n",
    "\n",
    "\n",
    "#오류의 원인 : 자릿수 ( 다음에 코드를 짤 때에는 계산에 들어갈 소수점 자릿수는 조금 여유를 두도록 한다.)"
   ]
  }
 ],
 "metadata": {
  "kernelspec": {
   "display_name": "Python 3",
   "language": "python",
   "name": "python3"
  },
  "language_info": {
   "codemirror_mode": {
    "name": "ipython",
    "version": 3
   },
   "file_extension": ".py",
   "mimetype": "text/x-python",
   "name": "python",
   "nbconvert_exporter": "python",
   "pygments_lexer": "ipython3",
   "version": "3.6.7"
  }
 },
 "nbformat": 4,
 "nbformat_minor": 2
}
