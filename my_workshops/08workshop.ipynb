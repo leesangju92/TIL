{
 "cells": [
  {
   "cell_type": "code",
   "execution_count": null,
   "metadata": {},
   "outputs": [],
   "source": [
    "from flask import Flask, jsonify\n",
    "import random\n",
    "\n",
    "app = Flask(__name__)\n",
    "\n",
    "@app.route(\"/\")\n",
    "def index():\n",
    "    return \"Hi\"\n",
    "\n",
    "@app.route(\"/dictionary/<string:word>\")\n",
    "def dictionary(word):\n",
    "    my_dictionary = { \"apple\": \"사과\", \"banana\": \"바나나\", \"melon\": \"멜론\", \"pear\": \"배\" }\n",
    "    if word in my_dictionary:\n",
    "        return f\"{word}은(는) {my_dictionary[word]}!\"\n",
    "    else:\n",
    "        return f\"{word}은(는) 나만의 단어장에 없는 단어입니다!\"\n",
    "\n",
    "if __name__ == \"__main__\":\n",
    "    app.run(debug = True)\n"
   ]
  }
 ],
 "metadata": {
  "kernelspec": {
   "display_name": "Python 3",
   "language": "python",
   "name": "python3"
  },
  "language_info": {
   "codemirror_mode": {
    "name": "ipython",
    "version": 3
   },
   "file_extension": ".py",
   "mimetype": "text/x-python",
   "name": "python",
   "nbconvert_exporter": "python",
   "pygments_lexer": "ipython3",
   "version": "3.6.7"
  }
 },
 "nbformat": 4,
 "nbformat_minor": 2
}
