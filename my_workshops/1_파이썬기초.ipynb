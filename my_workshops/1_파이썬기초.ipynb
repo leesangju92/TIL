{
 "cells": [
  {
   "cell_type": "markdown",
   "metadata": {},
   "source": [
    "# Day1"
   ]
  },
  {
   "cell_type": "markdown",
   "metadata": {},
   "source": [
    "## Workshop"
   ]
  },
  {
   "cell_type": "code",
   "execution_count": 1,
   "metadata": {},
   "outputs": [
    {
     "name": "stdout",
     "output_type": "stream",
     "text": [
      "*****\n",
      "*****\n",
      "*****\n",
      "*****\n",
      "*****\n",
      "*****\n",
      "*****\n",
      "*****\n",
      "*****\n",
      "\n"
     ]
    }
   ],
   "source": [
    "#problem1\n",
    "\n",
    "n, m = 5, 9\n",
    "x= n*'*'\n",
    "print('{}\\n'.format(x)*m)"
   ]
  },
  {
   "cell_type": "code",
   "execution_count": 2,
   "metadata": {},
   "outputs": [
    {
     "name": "stdout",
     "output_type": "stream",
     "text": [
      "87.75\n"
     ]
    }
   ],
   "source": [
    "# problem2\n",
    "\n",
    "student = {'python' : 80, 'algorithm' : 99, 'django' : 89, 'flask' : 83}\n",
    "print(sum(student.values())/len(student))\n"
   ]
  },
  {
   "cell_type": "code",
   "execution_count": 3,
   "metadata": {},
   "outputs": [
    {
     "name": "stdout",
     "output_type": "stream",
     "text": [
      "A형 : 3 B형 : 3 O형 : 3 AB형 : 3\n"
     ]
    }
   ],
   "source": [
    "#problem3\n",
    "blood_types = ['A', 'B', 'A', 'O', 'AB', 'AB', 'O', 'A', 'B', 'O', 'B', 'AB']\n",
    "\n",
    "a = b = ab = o = 0\n",
    "\n",
    "for x in blood_types:\n",
    "    if x == 'A':\n",
    "        a += 1\n",
    "    elif x == 'B':\n",
    "        b += 1\n",
    "    elif x == 'O':\n",
    "        o += 1\n",
    "    elif x == 'AB':\n",
    "        ab += 1\n",
    "\n",
    "print('A형 :', a, 'B형 :', b, 'O형 :', o, 'AB형 :', ab)"
   ]
  }
 ],
 "metadata": {
  "kernelspec": {
   "display_name": "Python 3",
   "language": "python",
   "name": "python3"
  },
  "language_info": {
   "codemirror_mode": {
    "name": "ipython",
    "version": 3
   },
   "file_extension": ".py",
   "mimetype": "text/x-python",
   "name": "python",
   "nbconvert_exporter": "python",
   "pygments_lexer": "ipython3",
   "version": "3.6.7"
  }
 },
 "nbformat": 4,
 "nbformat_minor": 2
}
