{
 "cells": [
  {
   "cell_type": "code",
   "execution_count": 2,
   "metadata": {},
   "outputs": [],
   "source": [
    "# p:nth-child(2) --> 전체에서 2번째에 해당하는 selector가 p라면 해당 style을 적용\n",
    "\n",
    "# 따라서 첫번째라인이 붉은색으로 된다.\n",
    "\n",
    "# p:nth-of-type(2) --> p selector에서 2번째에 해당 style을 적용\n",
    "\n",
    "# 따라서 두번째라인이 붉은색으로 된다."
   ]
  }
 ],
 "metadata": {
  "kernelspec": {
   "display_name": "Python 3",
   "language": "python",
   "name": "python3"
  },
  "language_info": {
   "codemirror_mode": {
    "name": "ipython",
    "version": 3
   },
   "file_extension": ".py",
   "mimetype": "text/x-python",
   "name": "python",
   "nbconvert_exporter": "python",
   "pygments_lexer": "ipython3",
   "version": "3.6.7"
  }
 },
 "nbformat": 4,
 "nbformat_minor": 2
}
