{
 "cells": [
  {
   "cell_type": "code",
   "execution_count": 5,
   "metadata": {},
   "outputs": [
    {
     "name": "stdout",
     "output_type": "stream",
     "text": [
      "단어를 입력해주세요 : Tomamot\n",
      "TOMAMOT TOMAMOT\n",
      "True\n"
     ]
    }
   ],
   "source": [
    "def palindrome(word):\n",
    "    list2 = []\n",
    "    list1 = list(word)\n",
    "    list2 += reversed(list1)\n",
    "    if list1 == list2:\n",
    "        return True\n",
    "    else:\n",
    "        return False\n",
    "\n",
    "    \n",
    "# def palindrome(word):        #대소문자 구별x\n",
    "#     word1 = \"\"\n",
    "#     word2 = \"\"\n",
    "#     list2 = []\n",
    "#     list1 = list(word)\n",
    "#     list2 += reversed(list1)\n",
    "#     for i in list1:\n",
    "#         word1 += i\n",
    "#     for y in list2:\n",
    "#         word2 += y\n",
    "#     if word1.upper() == word2.upper():\n",
    "#         return True\n",
    "#     else:\n",
    "#         return False\n",
    "   \n",
    "    \n",
    "word = input(\"단어를 입력해주세요 : \")\n",
    "\n",
    "print(palindrome(word))\n",
    "\n"
   ]
  }
 ],
 "metadata": {
  "kernelspec": {
   "display_name": "Python 3",
   "language": "python",
   "name": "python3"
  },
  "language_info": {
   "codemirror_mode": {
    "name": "ipython",
    "version": 3
   },
   "file_extension": ".py",
   "mimetype": "text/x-python",
   "name": "python",
   "nbconvert_exporter": "python",
   "pygments_lexer": "ipython3",
   "version": "3.6.7"
  }
 },
 "nbformat": 4,
 "nbformat_minor": 2
}
